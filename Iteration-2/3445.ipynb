{
 "cells": [
  {
   "cell_type": "code",
   "execution_count": 41,
   "metadata": {
    "collapsed": true
   },
   "outputs": [],
   "source": [
    "import pylab\n",
    "import pandas as pd\n",
    "import numpy as np\n",
    "import matplotlib.pyplot as plt\n",
    "%matplotlib inline"
   ]
  },
  {
   "cell_type": "code",
   "execution_count": 42,
   "metadata": {
    "collapsed": false
   },
   "outputs": [
    {
     "ename": "KeyboardInterrupt",
     "evalue": "",
     "output_type": "error",
     "traceback": [
      "\u001b[0;31m---------------------------------------------------------------------------\u001b[0m",
      "\u001b[0;31mKeyboardInterrupt\u001b[0m                         Traceback (most recent call last)",
      "\u001b[0;32m<ipython-input-42-cee23f59024b>\u001b[0m in \u001b[0;36m<module>\u001b[0;34m()\u001b[0m\n\u001b[1;32m      1\u001b[0m \u001b[0mflow\u001b[0m \u001b[0;34m=\u001b[0m \u001b[0mpd\u001b[0m\u001b[0;34m.\u001b[0m\u001b[0mread_csv\u001b[0m\u001b[0;34m(\u001b[0m\u001b[0;34m\"flow.tsv\"\u001b[0m\u001b[0;34m,\u001b[0m \u001b[0mna_values\u001b[0m\u001b[0;34m=\u001b[0m\u001b[0;34m[\u001b[0m\u001b[0;34m'-'\u001b[0m\u001b[0;34m]\u001b[0m\u001b[0;34m,\u001b[0m \u001b[0mdelimiter\u001b[0m\u001b[0;34m=\u001b[0m\u001b[0;34m\"\\t\"\u001b[0m\u001b[0;34m,\u001b[0m \u001b[0merror_bad_lines\u001b[0m\u001b[0;34m=\u001b[0m\u001b[0;32mFalse\u001b[0m\u001b[0;34m)\u001b[0m\u001b[0;34m\u001b[0m\u001b[0m\n\u001b[1;32m      2\u001b[0m \u001b[0moccupancy\u001b[0m \u001b[0;34m=\u001b[0m \u001b[0mpd\u001b[0m\u001b[0;34m.\u001b[0m\u001b[0mread_csv\u001b[0m\u001b[0;34m(\u001b[0m\u001b[0;34m\"occupancy.tsv\"\u001b[0m\u001b[0;34m,\u001b[0m \u001b[0mna_values\u001b[0m\u001b[0;34m=\u001b[0m\u001b[0;34m[\u001b[0m\u001b[0;34m'-'\u001b[0m\u001b[0;34m]\u001b[0m\u001b[0;34m,\u001b[0m \u001b[0mdelimiter\u001b[0m\u001b[0;34m=\u001b[0m\u001b[0;34m\"\\t\"\u001b[0m\u001b[0;34m,\u001b[0m \u001b[0merror_bad_lines\u001b[0m\u001b[0;34m=\u001b[0m\u001b[0;32mFalse\u001b[0m\u001b[0;34m)\u001b[0m\u001b[0;34m\u001b[0m\u001b[0m\n\u001b[0;32m----> 3\u001b[0;31m \u001b[0mspeed\u001b[0m \u001b[0;34m=\u001b[0m \u001b[0mpd\u001b[0m\u001b[0;34m.\u001b[0m\u001b[0mread_csv\u001b[0m\u001b[0;34m(\u001b[0m\u001b[0;34m\"speed.tsv\"\u001b[0m\u001b[0;34m,\u001b[0m \u001b[0mna_values\u001b[0m\u001b[0;34m=\u001b[0m\u001b[0;34m[\u001b[0m\u001b[0;34m'-'\u001b[0m\u001b[0;34m]\u001b[0m\u001b[0;34m,\u001b[0m \u001b[0mdelimiter\u001b[0m\u001b[0;34m=\u001b[0m\u001b[0;34m\"\\t\"\u001b[0m\u001b[0;34m,\u001b[0m \u001b[0merror_bad_lines\u001b[0m\u001b[0;34m=\u001b[0m\u001b[0;32mFalse\u001b[0m\u001b[0;34m)\u001b[0m\u001b[0;34m\u001b[0m\u001b[0m\n\u001b[0m\u001b[1;32m      4\u001b[0m \u001b[0mtimestamp\u001b[0m \u001b[0;34m=\u001b[0m \u001b[0mpd\u001b[0m\u001b[0;34m.\u001b[0m\u001b[0mread_csv\u001b[0m\u001b[0;34m(\u001b[0m\u001b[0;34m\"timestamp.tsv\"\u001b[0m\u001b[0;34m,\u001b[0m \u001b[0mna_values\u001b[0m\u001b[0;34m=\u001b[0m\u001b[0;34m[\u001b[0m\u001b[0;34m'-'\u001b[0m\u001b[0;34m]\u001b[0m\u001b[0;34m,\u001b[0m \u001b[0mdelimiter\u001b[0m\u001b[0;34m=\u001b[0m\u001b[0;34m\"\\t\"\u001b[0m\u001b[0;34m,\u001b[0m \u001b[0merror_bad_lines\u001b[0m\u001b[0;34m=\u001b[0m\u001b[0;32mFalse\u001b[0m\u001b[0;34m)\u001b[0m\u001b[0;34m\u001b[0m\u001b[0m\n",
      "\u001b[0;32m/Users/abhisheknigam/anaconda/lib/python3.5/site-packages/pandas/io/parsers.py\u001b[0m in \u001b[0;36mparser_f\u001b[0;34m(filepath_or_buffer, sep, delimiter, header, names, index_col, usecols, squeeze, prefix, mangle_dupe_cols, dtype, engine, converters, true_values, false_values, skipinitialspace, skiprows, skipfooter, nrows, na_values, keep_default_na, na_filter, verbose, skip_blank_lines, parse_dates, infer_datetime_format, keep_date_col, date_parser, dayfirst, iterator, chunksize, compression, thousands, decimal, lineterminator, quotechar, quoting, escapechar, comment, encoding, dialect, tupleize_cols, error_bad_lines, warn_bad_lines, skip_footer, doublequote, delim_whitespace, as_recarray, compact_ints, use_unsigned, low_memory, buffer_lines, memory_map, float_precision)\u001b[0m\n\u001b[1;32m    560\u001b[0m                     skip_blank_lines=skip_blank_lines)\n\u001b[1;32m    561\u001b[0m \u001b[0;34m\u001b[0m\u001b[0m\n\u001b[0;32m--> 562\u001b[0;31m         \u001b[0;32mreturn\u001b[0m \u001b[0m_read\u001b[0m\u001b[0;34m(\u001b[0m\u001b[0mfilepath_or_buffer\u001b[0m\u001b[0;34m,\u001b[0m \u001b[0mkwds\u001b[0m\u001b[0;34m)\u001b[0m\u001b[0;34m\u001b[0m\u001b[0m\n\u001b[0m\u001b[1;32m    563\u001b[0m \u001b[0;34m\u001b[0m\u001b[0m\n\u001b[1;32m    564\u001b[0m     \u001b[0mparser_f\u001b[0m\u001b[0;34m.\u001b[0m\u001b[0m__name__\u001b[0m \u001b[0;34m=\u001b[0m \u001b[0mname\u001b[0m\u001b[0;34m\u001b[0m\u001b[0m\n",
      "\u001b[0;32m/Users/abhisheknigam/anaconda/lib/python3.5/site-packages/pandas/io/parsers.py\u001b[0m in \u001b[0;36m_read\u001b[0;34m(filepath_or_buffer, kwds)\u001b[0m\n\u001b[1;32m    323\u001b[0m         \u001b[0;32mreturn\u001b[0m \u001b[0mparser\u001b[0m\u001b[0;34m\u001b[0m\u001b[0m\n\u001b[1;32m    324\u001b[0m \u001b[0;34m\u001b[0m\u001b[0m\n\u001b[0;32m--> 325\u001b[0;31m     \u001b[0;32mreturn\u001b[0m \u001b[0mparser\u001b[0m\u001b[0;34m.\u001b[0m\u001b[0mread\u001b[0m\u001b[0;34m(\u001b[0m\u001b[0;34m)\u001b[0m\u001b[0;34m\u001b[0m\u001b[0m\n\u001b[0m\u001b[1;32m    326\u001b[0m \u001b[0;34m\u001b[0m\u001b[0m\n\u001b[1;32m    327\u001b[0m _parser_defaults = {\n",
      "\u001b[0;32m/Users/abhisheknigam/anaconda/lib/python3.5/site-packages/pandas/io/parsers.py\u001b[0m in \u001b[0;36mread\u001b[0;34m(self, nrows)\u001b[0m\n\u001b[1;32m    813\u001b[0m                 \u001b[0;32mraise\u001b[0m \u001b[0mValueError\u001b[0m\u001b[0;34m(\u001b[0m\u001b[0;34m'skip_footer not supported for iteration'\u001b[0m\u001b[0;34m)\u001b[0m\u001b[0;34m\u001b[0m\u001b[0m\n\u001b[1;32m    814\u001b[0m \u001b[0;34m\u001b[0m\u001b[0m\n\u001b[0;32m--> 815\u001b[0;31m         \u001b[0mret\u001b[0m \u001b[0;34m=\u001b[0m \u001b[0mself\u001b[0m\u001b[0;34m.\u001b[0m\u001b[0m_engine\u001b[0m\u001b[0;34m.\u001b[0m\u001b[0mread\u001b[0m\u001b[0;34m(\u001b[0m\u001b[0mnrows\u001b[0m\u001b[0;34m)\u001b[0m\u001b[0;34m\u001b[0m\u001b[0m\n\u001b[0m\u001b[1;32m    816\u001b[0m \u001b[0;34m\u001b[0m\u001b[0m\n\u001b[1;32m    817\u001b[0m         \u001b[0;32mif\u001b[0m \u001b[0mself\u001b[0m\u001b[0;34m.\u001b[0m\u001b[0moptions\u001b[0m\u001b[0;34m.\u001b[0m\u001b[0mget\u001b[0m\u001b[0;34m(\u001b[0m\u001b[0;34m'as_recarray'\u001b[0m\u001b[0;34m)\u001b[0m\u001b[0;34m:\u001b[0m\u001b[0;34m\u001b[0m\u001b[0m\n",
      "\u001b[0;32m/Users/abhisheknigam/anaconda/lib/python3.5/site-packages/pandas/io/parsers.py\u001b[0m in \u001b[0;36mread\u001b[0;34m(self, nrows)\u001b[0m\n\u001b[1;32m   1312\u001b[0m     \u001b[0;32mdef\u001b[0m \u001b[0mread\u001b[0m\u001b[0;34m(\u001b[0m\u001b[0mself\u001b[0m\u001b[0;34m,\u001b[0m \u001b[0mnrows\u001b[0m\u001b[0;34m=\u001b[0m\u001b[0;32mNone\u001b[0m\u001b[0;34m)\u001b[0m\u001b[0;34m:\u001b[0m\u001b[0;34m\u001b[0m\u001b[0m\n\u001b[1;32m   1313\u001b[0m         \u001b[0;32mtry\u001b[0m\u001b[0;34m:\u001b[0m\u001b[0;34m\u001b[0m\u001b[0m\n\u001b[0;32m-> 1314\u001b[0;31m             \u001b[0mdata\u001b[0m \u001b[0;34m=\u001b[0m \u001b[0mself\u001b[0m\u001b[0;34m.\u001b[0m\u001b[0m_reader\u001b[0m\u001b[0;34m.\u001b[0m\u001b[0mread\u001b[0m\u001b[0;34m(\u001b[0m\u001b[0mnrows\u001b[0m\u001b[0;34m)\u001b[0m\u001b[0;34m\u001b[0m\u001b[0m\n\u001b[0m\u001b[1;32m   1315\u001b[0m         \u001b[0;32mexcept\u001b[0m \u001b[0mStopIteration\u001b[0m\u001b[0;34m:\u001b[0m\u001b[0;34m\u001b[0m\u001b[0m\n\u001b[1;32m   1316\u001b[0m             \u001b[0;32mif\u001b[0m \u001b[0mself\u001b[0m\u001b[0;34m.\u001b[0m\u001b[0m_first_chunk\u001b[0m\u001b[0;34m:\u001b[0m\u001b[0;34m\u001b[0m\u001b[0m\n",
      "\u001b[0;31mKeyboardInterrupt\u001b[0m: "
     ]
    }
   ],
   "source": [
    "flow = pd.read_csv(\"flow.tsv\", na_values=['-'], delimiter=\"\\t\", error_bad_lines=False)\n",
    "occupancy = pd.read_csv(\"occupancy.tsv\", na_values=['-'], delimiter=\"\\t\", error_bad_lines=False)\n",
    "speed = pd.read_csv(\"speed.tsv\", na_values=['-'], delimiter=\"\\t\", error_bad_lines=False)\n",
    "timestamp = pd.read_csv(\"timestamp.tsv\", na_values=['-'], delimiter=\"\\t\", error_bad_lines=False)"
   ]
  },
  {
   "cell_type": "code",
   "execution_count": null,
   "metadata": {
    "collapsed": false
   },
   "outputs": [],
   "source": [
    "flow.head()"
   ]
  },
  {
   "cell_type": "code",
   "execution_count": null,
   "metadata": {
    "collapsed": false
   },
   "outputs": [],
   "source": [
    "df = pd.concat([flow,occupancy,speed,timestamp], axis=1)"
   ]
  },
  {
   "cell_type": "code",
   "execution_count": null,
   "metadata": {
    "collapsed": false
   },
   "outputs": [],
   "source": [
    "df.columns = ['flow1','flow2','flow3','flow4','occupancy1','occupancy2', 'occupancy3','occupancy4','speed1','speed2', 'speed3','speed4','timestamp']\n",
    "df.head()"
   ]
  },
  {
   "cell_type": "code",
   "execution_count": null,
   "metadata": {
    "collapsed": false
   },
   "outputs": [],
   "source": [
    "df1 =  pd.DataFrame({\"flow\" : df.flow1, \"occupancy\" : df.occupancy1,\"speed\" : df.speed1,\"timestamp\" : df.timestamp,\"detector\" : \"x\"})\n",
    "df2 = pd.DataFrame({\"flow\" : df.flow2, \"occupancy\" : df.occupancy2,\"speed\" : df.speed2,\"timestamp\" : df.timestamp,\"detector\" : \"y\"})\n",
    "df3 = pd.DataFrame({\"flow\" : df.flow3, \"occupancy\" : df.occupancy3,\"speed\" : df.speed3,\"timestamp\" : df.timestamp,\"detector\" : \"z\"})\n",
    "df4 = pd.DataFrame({\"flow\" : df.flow4, \"occupancy\" : df.occupancy4,\"speed\" : df.speed4,\"timestamp\" : df.timestamp,\"detector\" : \"x1\"})"
   ]
  },
  {
   "cell_type": "code",
   "execution_count": null,
   "metadata": {
    "collapsed": false
   },
   "outputs": [],
   "source": [
    "frames = [df1, df2, df3, df4]\n",
    "result = pd.concat(frames)"
   ]
  },
  {
   "cell_type": "code",
   "execution_count": null,
   "metadata": {
    "collapsed": false
   },
   "outputs": [],
   "source": [
    "result = result.sort_values(\"timestamp\")"
   ]
  },
  {
   "cell_type": "code",
   "execution_count": null,
   "metadata": {
    "collapsed": false
   },
   "outputs": [],
   "source": [
    "len(result)"
   ]
  },
  {
   "cell_type": "code",
   "execution_count": null,
   "metadata": {
    "collapsed": false
   },
   "outputs": [],
   "source": [
    "# Finding outlier values for Occoupancy\n",
    "val = np.sort(result[\"occupancy\"].unique())\n",
    "plt.plot(val)"
   ]
  },
  {
   "cell_type": "code",
   "execution_count": null,
   "metadata": {
    "collapsed": false
   },
   "outputs": [],
   "source": [
    "print (np.sort(result[\"occupancy\"].unique()))"
   ]
  },
  {
   "cell_type": "code",
   "execution_count": null,
   "metadata": {
    "collapsed": false
   },
   "outputs": [],
   "source": [
    "# Outlier speed visualization\n",
    "plt.figure(figsize=(10,10))\n",
    "plt.plot(np.sort(result[\"occupancy\"].unique()))"
   ]
  },
  {
   "cell_type": "code",
   "execution_count": null,
   "metadata": {
    "collapsed": false
   },
   "outputs": [],
   "source": [
    "removeResult1 = result[(result['speed'] < 0) | (result['flow'] < 0)]\n",
    "removeResult2 = result[(result['flow'] == 0) & (result['speed'] > 0)]\n",
    "jam_occupancy_threshold = 100\n",
    "removeResult3 = result[((result['speed'] == 0) & \n",
    "                            (result['flow'] == 0) & \n",
    "                            (result['occupancy'] != 0) & \n",
    "                            (result['occupancy'] < jam_occupancy_threshold))]\n",
    "# skewed data\n",
    "#removeResult4 = result[(result['speed'] == 0) & (result['flow'] == 0) & (result[\"occupancy\"] == 0)]\n",
    "removeResult5 = result[(result['speed'] == 0) & (result['flow'] != 0) & (result[\"occupancy\"] == 0)]\n",
    "removeResult6 = result[(pd.isnull(result['speed'])) | (pd.isnull(result['occupancy'])) | (pd.isnull(result['flow']))]"
   ]
  },
  {
   "cell_type": "code",
   "execution_count": null,
   "metadata": {
    "collapsed": false
   },
   "outputs": [],
   "source": [
    "len(result)"
   ]
  },
  {
   "cell_type": "code",
   "execution_count": null,
   "metadata": {
    "collapsed": false
   },
   "outputs": [],
   "source": [
    "result = pd.concat([result,removeResult1,removeResult1]).drop_duplicates(keep=False)\n",
    "result = pd.concat([result,removeResult2,removeResult2]).drop_duplicates(keep=False)\n",
    "result = pd.concat([result,removeResult3,removeResult3]).drop_duplicates(keep=False)\n",
    "#result = pd.concat([result,removeResult4,removeResult4]).drop_duplicates(keep=False)\n",
    "result = pd.concat([result,removeResult5,removeResult5]).drop_duplicates(keep=False)\n",
    "result = pd.concat([result,removeResult6,removeResult6]).drop_duplicates(keep=False)"
   ]
  },
  {
   "cell_type": "code",
   "execution_count": null,
   "metadata": {
    "collapsed": false
   },
   "outputs": [],
   "source": [
    "result = result.sort_values([\"flow\"])"
   ]
  },
  {
   "cell_type": "code",
   "execution_count": null,
   "metadata": {
    "collapsed": true
   },
   "outputs": [],
   "source": [
    "def sampleData(data, threshold, columnName):\n",
    "    flowBins = np.zeros(shape=(20,), dtype = object)\n",
    "    data = data.sort_values(columnName)\n",
    "    difference = threshold\n",
    "    high  = difference\n",
    "    low = 0;\n",
    "    for i in range(0, 20, 1):\n",
    "        b = data[data[columnName] < high]\n",
    "        b = b[b[columnName] >= low]\n",
    "        flowBins[i] = b\n",
    "        low = high\n",
    "        high = high + difference\n",
    "    return flowBins"
   ]
  },
  {
   "cell_type": "code",
   "execution_count": null,
   "metadata": {
    "collapsed": false
   },
   "outputs": [],
   "source": [
    "print (len(result))"
   ]
  },
  {
   "cell_type": "code",
   "execution_count": null,
   "metadata": {
    "collapsed": false
   },
   "outputs": [],
   "source": [
    "flowBins = np.zeros(shape=(20,), dtype = object)\n",
    "flowBins = sampleData(result, 13 ,\"flow\")    "
   ]
  },
  {
   "cell_type": "code",
   "execution_count": null,
   "metadata": {
    "collapsed": false
   },
   "outputs": [],
   "source": [
    "\n",
    "flow_occupancy_bin = np.ndarray(shape=(20,20), dtype = object)\n",
    "for i in range(0,20,1):\n",
    "    data = pd.DataFrame(flowBins[i])\n",
    "    flow_occupancy_bin[i] = sampleData(data, 6 ,\"occupancy\") "
   ]
  },
  {
   "cell_type": "code",
   "execution_count": null,
   "metadata": {
    "collapsed": false
   },
   "outputs": [],
   "source": [
    "flow_occupancy_speed_bin = np.ndarray(shape=(20,20,20), dtype = object)\n",
    "for i in range(0,20,1):\n",
    "    for j in range(0,20,1):\n",
    "        data = flow_occupancy_bin[i][j];\n",
    "        flow_occupancy_speed_bin[i][j] = sampleData(data, 11 ,\"speed\") "
   ]
  },
  {
   "cell_type": "code",
   "execution_count": null,
   "metadata": {
    "collapsed": true
   },
   "outputs": [],
   "source": [
    "!mkdir output"
   ]
  },
  {
   "cell_type": "code",
   "execution_count": null,
   "metadata": {
    "collapsed": false
   },
   "outputs": [],
   "source": [
    "final_result = pd.DataFrame(columns = [\"detector\",\"flow\",\"occupancy\",\"speed\",\"timestamp\", \"probability\"])\n",
    "total_points = len(result)\n",
    "for i in range(0,20,1):\n",
    "    for j in range(0,20,1):\n",
    "        for k in range(0,20,1):\n",
    "            prob_data = flow_occupancy_speed_bin[i][j][k]\n",
    "            points_inside_box = prob_data.shape[0]\n",
    "            f = prob_data.flow.max() - prob_data.flow.min()\n",
    "            o = prob_data.occupancy.max() - prob_data.occupancy.min()\n",
    "            s = prob_data.speed.max() - prob_data.speed.min()\n",
    "            volume = 858\n",
    "            if(volume == 0): volume =1\n",
    "            probability = points_inside_box/float(total_points * volume)\n",
    "            prob_data[\"probability\"] = probability\n",
    "            prob_data.to_csv(\"output/out\" + str(i) + '-' + str(j) + '-' + str(k) + \".csv\",sep=\"\\t\")"
   ]
  },
  {
   "cell_type": "code",
   "execution_count": null,
   "metadata": {
    "collapsed": false
   },
   "outputs": [],
   "source": [
    "! cat output/*.csv > merged.csv"
   ]
  },
  {
   "cell_type": "code",
   "execution_count": null,
   "metadata": {
    "collapsed": false
   },
   "outputs": [],
   "source": [
    "!rm -rf output/"
   ]
  },
  {
   "cell_type": "code",
   "execution_count": null,
   "metadata": {
    "collapsed": false
   },
   "outputs": [],
   "source": [
    "merged = pd.read_csv(\"merged.csv\", na_values=['-'], delimiter=\"\\t\", error_bad_lines=False)"
   ]
  },
  {
   "cell_type": "code",
   "execution_count": null,
   "metadata": {
    "collapsed": false
   },
   "outputs": [],
   "source": [
    "removeHeader = merged[merged[\"probability\"] == \"probability\"]"
   ]
  },
  {
   "cell_type": "code",
   "execution_count": null,
   "metadata": {
    "collapsed": false
   },
   "outputs": [],
   "source": [
    "merged = pd.concat([merged,removeHeader,removeHeader]).drop_duplicates(keep=False)"
   ]
  },
  {
   "cell_type": "code",
   "execution_count": null,
   "metadata": {
    "collapsed": false
   },
   "outputs": [],
   "source": [
    "removeResult1[\"probability\"] = 0\n",
    "removeResult2[\"probability\"] = 0\n",
    "removeResult3[\"probability\"] = 0\n",
    "#removeResult4[\"probability\"] = 0\n",
    "removeResult5[\"probability\"] = 0\n",
    "removeResult6[\"probability\"] = 0"
   ]
  },
  {
   "cell_type": "code",
   "execution_count": null,
   "metadata": {
    "collapsed": true
   },
   "outputs": [],
   "source": [
    "merged = merged.append(removeResult1);\n",
    "merged = merged.append(removeResult2);\n",
    "merged = merged.append(removeResult3);\n",
    "#merged = merged.append(removeResult4);\n",
    "merged = merged.append(removeResult5);\n",
    "merged = merged.append(removeResult6);"
   ]
  },
  {
   "cell_type": "code",
   "execution_count": null,
   "metadata": {
    "collapsed": false
   },
   "outputs": [],
   "source": [
    "# merged = merged.reset_index(drop=True)\n",
    "merged[\"probability\"] = merged[\"probability\"].apply(pd.to_numeric)\n",
    "merged = merged.sort_values([\"probability\"])\n",
    "final_columns = ['flow', 'speed', 'occupancy', 'probability']\n",
    "merged = merged[final_columns]"
   ]
  },
  {
   "cell_type": "code",
   "execution_count": null,
   "metadata": {
    "collapsed": false
   },
   "outputs": [],
   "source": [
    "# merged\n",
    "final_result = pd.DataFrame(columns = [\"flow\",\"speed\",\"occupancy\", \"probability\"])\n",
    "for i in range(0,len(merged),100):\n",
    "    final_result = final_result.append(merged.iloc[[i]])"
   ]
  },
  {
   "cell_type": "code",
   "execution_count": null,
   "metadata": {
    "collapsed": true
   },
   "outputs": [],
   "source": [
    "final_result.to_csv(\"3445.txt\",sep=\"\\t\", index=False)"
   ]
  },
  {
   "cell_type": "code",
   "execution_count": 44,
   "metadata": {
    "collapsed": true
   },
   "outputs": [],
   "source": [
    "low = 0;\n",
    "high1 = int(len(result)/20)\n",
    "BinNum = 20;\n",
    "length = high1 - low\n",
    "flowBins = np.zeros(shape=(20,high1), dtype = object)\n",
    "for i in range(0, 20, 1):\n",
    "    high = low + high1\n",
    "    flowBins[i] = [result[low : high]]\n",
    "    low = high"
   ]
  },
  {
   "cell_type": "code",
   "execution_count": 45,
   "metadata": {
    "collapsed": true
   },
   "outputs": [],
   "source": [
    "import numpy as np\n",
    "flow_occupancy_bin = np.ndarray(shape=(20,20), dtype = object)\n",
    "y = 1;\n",
    "low = 0;\n",
    "for i in range(0,20,1):\n",
    "    data = pd.DataFrame(flowBins[i].reshape((-1,length))[0][0]);\n",
    "    data = data.sort_values([\"occupancy\"])\n",
    "    high1 = int(len(flowBins[1])/20)\n",
    "    low = 0\n",
    "    for j in range(0, 20, 1):\n",
    "        high = low + high1\n",
    "        flow_occupancy_bin[i][j] = [data[low : high]]\n",
    "        low = high"
   ]
  },
  {
   "cell_type": "code",
   "execution_count": 46,
   "metadata": {
    "collapsed": true
   },
   "outputs": [],
   "source": [
    "import numpy as np\n",
    "flow_occupancy_speed_bin = np.ndarray(shape=(20,20,20), dtype = object)\n",
    "for i in range(0,20,1):\n",
    "    for k in range(0,20,1):\n",
    "        data = flow_occupancy_bin[i][k][0];\n",
    "        data = data.sort_values([\"speed\"])\n",
    "        low = 0;\n",
    "        high1 = int(len(flow_occupancy_bin[0][0][0])/20)\n",
    "        for j in range(0, 20, 1):\n",
    "            high = low + high1\n",
    "            flow_occupancy_speed_bin[i][k][j] = [data[low : high]]\n",
    "            low = high"
   ]
  },
  {
   "cell_type": "code",
   "execution_count": 47,
   "metadata": {
    "collapsed": true
   },
   "outputs": [],
   "source": [
    "!mkdir output"
   ]
  },
  {
   "cell_type": "code",
   "execution_count": 48,
   "metadata": {
    "collapsed": false
   },
   "outputs": [
    {
     "name": "stderr",
     "output_type": "stream",
     "text": [
      "/Users/abhisheknigam/anaconda/lib/python3.5/site-packages/ipykernel/__main__.py:13: SettingWithCopyWarning: \n",
      "A value is trying to be set on a copy of a slice from a DataFrame.\n",
      "Try using .loc[row_indexer,col_indexer] = value instead\n",
      "\n",
      "See the caveats in the documentation: http://pandas.pydata.org/pandas-docs/stable/indexing.html#indexing-view-versus-copy\n"
     ]
    }
   ],
   "source": [
    "vectors = len(result)\n",
    "for i in range(1,20,1):\n",
    "    for j in range(1,20,1):\n",
    "        for k in range(1,20,1):\n",
    "            prob_data = flow_occupancy_speed_bin[i][j][k][0]\n",
    "            currVectors = flow_occupancy_speed_bin[i][j][k][0].shape[0]\n",
    "            flow_difference = prob_data.flow.max() - prob_data.flow.min()\n",
    "            occupancy_difference = prob_data.occupancy.max() - prob_data.occupancy.min()\n",
    "            speed_difference = prob_data.speed.max() - prob_data.speed.min()\n",
    "            volume = flow_difference * occupancy_difference * speed_difference\n",
    "            if(volume == 0): volume =1\n",
    "            probability = currVectors/float(vectors * volume)\n",
    "            prob_data[\"probability\"] = probability\n",
    "            prob_data.to_csv(\"output/out\" + str(i) + '-' + str(j) + '-' + str(k) + \".csv\",sep=\"\\t\")  "
   ]
  },
  {
   "cell_type": "code",
   "execution_count": 49,
   "metadata": {
    "collapsed": true
   },
   "outputs": [],
   "source": [
    "! cat output/*.csv > merged-1.csv"
   ]
  },
  {
   "cell_type": "code",
   "execution_count": 50,
   "metadata": {
    "collapsed": true
   },
   "outputs": [],
   "source": [
    "!rm -rf output/"
   ]
  },
  {
   "cell_type": "code",
   "execution_count": 51,
   "metadata": {
    "collapsed": true
   },
   "outputs": [],
   "source": [
    "merged = pd.read_csv(\"merged-1.csv\", na_values=['-'], delimiter=\"\\t\", error_bad_lines=False)"
   ]
  },
  {
   "cell_type": "code",
   "execution_count": 52,
   "metadata": {
    "collapsed": true
   },
   "outputs": [],
   "source": [
    "removeHeader = merged[merged[\"probability\"] == \"probability\"]\n",
    "merged = pd.concat([merged,removeHeader,removeHeader]).drop_duplicates(keep=False)"
   ]
  },
  {
   "cell_type": "code",
   "execution_count": 53,
   "metadata": {
    "collapsed": true
   },
   "outputs": [],
   "source": [
    "removeResult1[\"probability\"] = 0\n",
    "removeResult2[\"probability\"] = 0\n",
    "removeResult3[\"probability\"] = 0\n",
    "#removeResult4[\"probability\"] = 0\n",
    "removeResult5[\"probability\"] = 0\n",
    "removeResult6[\"probability\"] = 0"
   ]
  },
  {
   "cell_type": "code",
   "execution_count": 54,
   "metadata": {
    "collapsed": true
   },
   "outputs": [],
   "source": [
    "merged = merged.append(removeResult1);\n",
    "merged = merged.append(removeResult2);\n",
    "merged = merged.append(removeResult3);\n",
    "#merged = merged.append(removeResult4);\n",
    "merged = merged.append(removeResult5);\n",
    "merged = merged.append(removeResult6);"
   ]
  },
  {
   "cell_type": "code",
   "execution_count": null,
   "metadata": {
    "collapsed": true
   },
   "outputs": [],
   "source": [
    "merged[\"probability\"] = merged[\"probability\"].apply(pd.to_numeric)\n",
    "merged = merged.sort_values([\"probability\"])\n",
    "final_columns = ['flow', 'speed', 'occupancy', 'probability']\n",
    "merged = merged[final_columns]"
   ]
  },
  {
   "cell_type": "code",
   "execution_count": null,
   "metadata": {
    "collapsed": true
   },
   "outputs": [],
   "source": [
    "final_result = pd.DataFrame(columns = [\"flow\",\"speed\",\"occupancy\", \"probability\"])\n",
    "for i in range(0,len(merged),100):\n",
    "    final_result = final_result.append(merged.iloc[[i]])"
   ]
  },
  {
   "cell_type": "code",
   "execution_count": null,
   "metadata": {
    "collapsed": true
   },
   "outputs": [],
   "source": [
    "final_result.to_csv(\"3445_2.txt\",sep=\"\\t\", index=False)"
   ]
  }
 ],
 "metadata": {
  "anaconda-cloud": {},
  "kernelspec": {
   "display_name": "Python [Root]",
   "language": "python",
   "name": "Python [Root]"
  },
  "language_info": {
   "codemirror_mode": {
    "name": "ipython",
    "version": 3
   },
   "file_extension": ".py",
   "mimetype": "text/x-python",
   "name": "python",
   "nbconvert_exporter": "python",
   "pygments_lexer": "ipython3",
   "version": "3.5.2"
  }
 },
 "nbformat": 4,
 "nbformat_minor": 0
}
