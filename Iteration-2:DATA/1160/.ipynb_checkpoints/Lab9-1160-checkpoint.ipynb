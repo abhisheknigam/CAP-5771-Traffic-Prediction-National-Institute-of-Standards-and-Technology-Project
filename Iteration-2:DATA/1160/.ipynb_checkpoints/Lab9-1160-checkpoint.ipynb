{
 "cells": [
  {
   "cell_type": "code",
   "execution_count": 1,
   "metadata": {
    "collapsed": false,
    "nbpresent": {
     "id": "9b4daacd-1a19-4b07-8534-fb1dbdfff53d"
    }
   },
   "outputs": [
    {
     "data": {
      "text/html": [
       "\n",
       "<style>\n",
       "\n",
       "div.cell { /* Tunes the space between cells */\n",
       "margin-top:1em;\n",
       "margin-bottom:1em;\n",
       "}\n",
       "\n",
       "div.text_cell_render h1 { /* Main titles bigger, centered */\n",
       "font-size: 2.2em;\n",
       "line-height:1.4em;\n",
       "text-align:center;\n",
       "}\n",
       "\n",
       "div.text_cell_render h2 { /*  Parts names nearer from text */\n",
       "margin-bottom: -0.4em;\n",
       "}\n",
       "\n",
       "\n",
       "div.text_cell_render { /* Customize text cells */\n",
       "font-family: 'Georgia';\n",
       "font-size:1.2em;\n",
       "line-height:1.4em;\n",
       "padding-left:3em;\n",
       "padding-right:3em;\n",
       "color: #256178;\n",
       "}\n",
       "</style>\n"
      ],
      "text/plain": [
       "<IPython.core.display.HTML object>"
      ]
     },
     "execution_count": 1,
     "metadata": {},
     "output_type": "execute_result"
    }
   ],
   "source": [
    "from IPython.core.display import HTML\n",
    "HTML(\"\"\"\n",
    "<style>\n",
    "\n",
    "div.cell { /* Tunes the space between cells */\n",
    "margin-top:1em;\n",
    "margin-bottom:1em;\n",
    "}\n",
    "\n",
    "div.text_cell_render h1 { /* Main titles bigger, centered */\n",
    "font-size: 2.2em;\n",
    "line-height:1.4em;\n",
    "text-align:center;\n",
    "}\n",
    "\n",
    "div.text_cell_render h2 { /*  Parts names nearer from text */\n",
    "margin-bottom: -0.4em;\n",
    "}\n",
    "\n",
    "\n",
    "div.text_cell_render { /* Customize text cells */\n",
    "font-family: 'Georgia';\n",
    "font-size:1.2em;\n",
    "line-height:1.4em;\n",
    "padding-left:3em;\n",
    "padding-right:3em;\n",
    "color: #256178;\n",
    "}\n",
    "</style>\n",
    "\"\"\")\n"
   ]
  },
  {
   "cell_type": "code",
   "execution_count": 2,
   "metadata": {
    "collapsed": false
   },
   "outputs": [],
   "source": [
    "import pylab\n",
    "import pandas as pd\n",
    "import numpy as np\n",
    "import matplotlib.pyplot as plt\n",
    "%matplotlib inline"
   ]
  },
  {
   "cell_type": "markdown",
   "metadata": {
    "nbpresent": {
     "id": "3d50cb35-e6fc-4b7b-a097-29b61d2f3379"
    }
   },
   "source": [
    "# Loading the data into a dataframe "
   ]
  },
  {
   "cell_type": "markdown",
   "metadata": {
    "nbpresent": {
     "id": "feb5e1f7-d134-4bc9-b271-6e174bfebcf2"
    }
   },
   "source": [
    "<b> Reading data from the required CSV files. </b>"
   ]
  },
  {
   "cell_type": "code",
   "execution_count": 3,
   "metadata": {
    "collapsed": true,
    "nbpresent": {
     "id": "d673c064-db6d-455f-8530-996372966400"
    }
   },
   "outputs": [],
   "source": [
    "flow = pd.read_csv(\"flow.tsv\", na_values=['-'], delimiter=\"\\t\", error_bad_lines=False)\n",
    "occupancy = pd.read_csv(\"occupancy.tsv\", na_values=['-'], delimiter=\"\\t\", error_bad_lines=False)\n",
    "speed = pd.read_csv(\"speed.tsv\", na_values=['-'], delimiter=\"\\t\", error_bad_lines=False)\n",
    "timestamp = pd.read_csv(\"timestamp.tsv\", na_values=['-'], delimiter=\"\\t\", error_bad_lines=False)"
   ]
  },
  {
   "cell_type": "markdown",
   "metadata": {
    "nbpresent": {
     "id": "5ec5ba5e-d329-44ae-9ee7-f00bc4d1d32e"
    }
   },
   "source": [
    "<b> Concating the values of the columns into a single dataframe </b>"
   ]
  },
  {
   "cell_type": "code",
   "execution_count": 4,
   "metadata": {
    "collapsed": false,
    "nbpresent": {
     "id": "0a63890c-9317-4cb0-bffa-0747b47c33b5"
    }
   },
   "outputs": [],
   "source": [
    "df = pd.concat([flow,occupancy,speed,timestamp], axis=1)"
   ]
  },
  {
   "cell_type": "code",
   "execution_count": 5,
   "metadata": {
    "collapsed": false,
    "nbpresent": {
     "id": "2804fb98-16f0-4c98-857d-75a32e359662"
    }
   },
   "outputs": [
    {
     "data": {
      "text/html": [
       "<div>\n",
       "<table border=\"1\" class=\"dataframe\">\n",
       "  <thead>\n",
       "    <tr style=\"text-align: right;\">\n",
       "      <th></th>\n",
       "      <th>flow1</th>\n",
       "      <th>flow2</th>\n",
       "      <th>flow3</th>\n",
       "      <th>occupancy1</th>\n",
       "      <th>occupancy2</th>\n",
       "      <th>occupancy3</th>\n",
       "      <th>speed1</th>\n",
       "      <th>speed2</th>\n",
       "      <th>speed3</th>\n",
       "      <th>timestamp</th>\n",
       "    </tr>\n",
       "  </thead>\n",
       "  <tbody>\n",
       "    <tr>\n",
       "      <th>0</th>\n",
       "      <td>9</td>\n",
       "      <td>4</td>\n",
       "      <td>255</td>\n",
       "      <td>4.0</td>\n",
       "      <td>2.0</td>\n",
       "      <td>4.0</td>\n",
       "      <td>67.0</td>\n",
       "      <td>60.0</td>\n",
       "      <td>0.0</td>\n",
       "      <td>2006-09-01T00:01:07</td>\n",
       "    </tr>\n",
       "    <tr>\n",
       "      <th>1</th>\n",
       "      <td>11</td>\n",
       "      <td>10</td>\n",
       "      <td>255</td>\n",
       "      <td>4.0</td>\n",
       "      <td>5.0</td>\n",
       "      <td>4.0</td>\n",
       "      <td>66.0</td>\n",
       "      <td>64.0</td>\n",
       "      <td>0.0</td>\n",
       "      <td>2006-09-01T00:02:07</td>\n",
       "    </tr>\n",
       "    <tr>\n",
       "      <th>2</th>\n",
       "      <td>-8</td>\n",
       "      <td>3</td>\n",
       "      <td>255</td>\n",
       "      <td>3.0</td>\n",
       "      <td>1.0</td>\n",
       "      <td>4.0</td>\n",
       "      <td>71.0</td>\n",
       "      <td>63.0</td>\n",
       "      <td>0.0</td>\n",
       "      <td>2006-09-01T00:03:07</td>\n",
       "    </tr>\n",
       "    <tr>\n",
       "      <th>3</th>\n",
       "      <td>5</td>\n",
       "      <td>9</td>\n",
       "      <td>255</td>\n",
       "      <td>2.0</td>\n",
       "      <td>3.0</td>\n",
       "      <td>4.0</td>\n",
       "      <td>65.0</td>\n",
       "      <td>70.0</td>\n",
       "      <td>0.0</td>\n",
       "      <td>2006-09-01T00:04:07</td>\n",
       "    </tr>\n",
       "    <tr>\n",
       "      <th>4</th>\n",
       "      <td>7</td>\n",
       "      <td>10</td>\n",
       "      <td>255</td>\n",
       "      <td>2.0</td>\n",
       "      <td>4.0</td>\n",
       "      <td>4.0</td>\n",
       "      <td>66.0</td>\n",
       "      <td>64.0</td>\n",
       "      <td>0.0</td>\n",
       "      <td>2006-09-01T00:05:08</td>\n",
       "    </tr>\n",
       "  </tbody>\n",
       "</table>\n",
       "</div>"
      ],
      "text/plain": [
       "   flow1  flow2  flow3  occupancy1  occupancy2  occupancy3  speed1  speed2  \\\n",
       "0      9      4    255         4.0         2.0         4.0    67.0    60.0   \n",
       "1     11     10    255         4.0         5.0         4.0    66.0    64.0   \n",
       "2     -8      3    255         3.0         1.0         4.0    71.0    63.0   \n",
       "3      5      9    255         2.0         3.0         4.0    65.0    70.0   \n",
       "4      7     10    255         2.0         4.0         4.0    66.0    64.0   \n",
       "\n",
       "   speed3            timestamp  \n",
       "0     0.0  2006-09-01T00:01:07  \n",
       "1     0.0  2006-09-01T00:02:07  \n",
       "2     0.0  2006-09-01T00:03:07  \n",
       "3     0.0  2006-09-01T00:04:07  \n",
       "4     0.0  2006-09-01T00:05:08  "
      ]
     },
     "execution_count": 5,
     "metadata": {},
     "output_type": "execute_result"
    }
   ],
   "source": [
    "df.columns = ['flow1','flow2','flow3','occupancy1','occupancy2','occupancy3','speed1','speed2','speed3','timestamp']\n",
    "df.head()"
   ]
  },
  {
   "cell_type": "markdown",
   "metadata": {
    "nbpresent": {
     "id": "f0a0f397-ba69-4cfa-9712-f834d6afefe4"
    }
   },
   "source": [
    "<b> Implementing vector seperation. Dividing the single dataframe into seperate dataframes. </b>"
   ]
  },
  {
   "cell_type": "code",
   "execution_count": 6,
   "metadata": {
    "collapsed": false,
    "nbpresent": {
     "id": "cacc7ed6-f993-465e-b758-f1951beb8025"
    }
   },
   "outputs": [],
   "source": [
    "df1 =  pd.DataFrame({\"flow\" : df.flow1, \"occupancy\" : df.occupancy1,\"speed\" : df.speed1,\"timestamp\" : df.timestamp,\"detector\" : \"x\"})\n",
    "df2 = pd.DataFrame({\"flow\" : df.flow2, \"occupancy\" : df.occupancy2,\"speed\" : df.speed2,\"timestamp\" : df.timestamp,\"detector\" : \"y\"})\n",
    "df3 = pd.DataFrame({\"flow\" : df.flow3, \"occupancy\" : df.occupancy3,\"speed\" : df.speed3,\"timestamp\" : df.timestamp,\"detector\" : \"z\"})"
   ]
  },
  {
   "cell_type": "markdown",
   "metadata": {
    "nbpresent": {
     "id": "1e12c4ae-da73-404d-ae1c-1892a99ccb4b"
    }
   },
   "source": [
    "<b> Concatenating the dataframes </b>"
   ]
  },
  {
   "cell_type": "code",
   "execution_count": 7,
   "metadata": {
    "collapsed": false,
    "nbpresent": {
     "id": "2abfdeaf-00da-4a4f-8786-f6663e34f476"
    }
   },
   "outputs": [],
   "source": [
    "frames = [df1, df2, df3]\n",
    "result = pd.concat(frames)"
   ]
  },
  {
   "cell_type": "markdown",
   "metadata": {},
   "source": [
    "<b> Sorting on timestamp </b>"
   ]
  },
  {
   "cell_type": "code",
   "execution_count": 8,
   "metadata": {
    "collapsed": false,
    "nbpresent": {
     "id": "36bd5b56-4114-49bd-bead-aeddb429498d"
    }
   },
   "outputs": [],
   "source": [
    "result = result.sort_values(\"timestamp\")"
   ]
  },
  {
   "cell_type": "markdown",
   "metadata": {},
   "source": [
    " # Cleaning the data"
   ]
  },
  {
   "cell_type": "markdown",
   "metadata": {},
   "source": [
    "# Flow Outlier Visualization"
   ]
  },
  {
   "cell_type": "markdown",
   "metadata": {},
   "source": [
    "In the below cell we plot the unique values of flow to visulaize possible outliers. "
   ]
  },
  {
   "cell_type": "code",
   "execution_count": 9,
   "metadata": {
    "collapsed": false
   },
   "outputs": [
    {
     "data": {
      "text/plain": [
       "[<matplotlib.lines.Line2D at 0x1161aac88>]"
      ]
     },
     "execution_count": 9,
     "metadata": {},
     "output_type": "execute_result"
    },
    {
     "data": {
      "image/png": "[encoded data removed]",
      "text/plain": [
       "<matplotlib.figure.Figure at 0x115133e10>"
      ]
     },
     "metadata": {},
     "output_type": "display_data"
    }
   ],
   "source": [
    "plt.figure(figsize=(10,10))\n",
    "plt.plot(result[\"flow\"].unique())"
   ]
  },
  {
   "cell_type": "markdown",
   "metadata": {},
   "source": [
    "       \n",
    "# Occupancy Outlier Visualization\n",
    "<b>Finding outlier values and cleaning the occupancy column </b>\n",
    " \n",
    " <b>Observations :- </b>\n",
    "        As we can see from the graph below, the occupancy values in the dataset increase consistently over a range\n",
    "       of 0 to 100 but change drastically after that. This indicates possible outliers and wrong data.From the above\n",
    "       observation, we conclude that even during a traffic jam the occupancy values should not be\n",
    "       greater than a threshold of 120. So, we keep a variable jam_occupancy_threshold which holds a value of 120.\n",
    "       This value helps us in identifying values which can be ignored while computing probablity distribution. We \n",
    "       can safely assume a probability density of 0 for rows carying such values. \n",
    "\n",
    "    "
   ]
  },
  {
   "cell_type": "code",
   "execution_count": 10,
   "metadata": {
    "collapsed": false,
    "nbpresent": {
     "id": "80522021-2c18-4083-9b39-7989e067747a"
    }
   },
   "outputs": [
    {
     "data": {
      "text/plain": [
       "[<matplotlib.lines.Line2D at 0x117360ba8>]"
      ]
     },
     "execution_count": 10,
     "metadata": {},
     "output_type": "execute_result"
    },
    {
     "data": {
      "image/png": "[encoded data removed]",
      "text/plain": [
       "<matplotlib.figure.Figure at 0x116edc6d8>"
      ]
     },
     "metadata": {},
     "output_type": "display_data"
    }
   ],
   "source": [
    "val = np.sort(result[\"occupancy\"].unique())\n",
    "plt.plot(val)"
   ]
  },
  {
   "cell_type": "markdown",
   "metadata": {},
   "source": [
    "# Speed Outlier Visualization\n",
    "<b>Finding outlier values and cleaning the Speed column </b>\n",
    " \n",
    "Observations :- The graph below shows that the data is consistent till value 120 and gets skwed above that i.e speed > 120 mph. This makes perfect sense as speeds above are not practically feasible considering the speed limit laws.\n",
    "\n"
   ]
  },
  {
   "cell_type": "code",
   "execution_count": 11,
   "metadata": {
    "collapsed": false,
    "nbpresent": {
     "id": "8ba3b08d-4b38-4b39-b944-06e01ed5691a"
    }
   },
   "outputs": [
    {
     "data": {
      "text/plain": [
       "[<matplotlib.lines.Line2D at 0x1173f1518>]"
      ]
     },
     "execution_count": 11,
     "metadata": {},
     "output_type": "execute_result"
    },
    {
     "data": {
      "image/png": "[encoded data removed]",
      "text/plain": [
       "<matplotlib.figure.Figure at 0x11733abe0>"
      ]
     },
     "metadata": {},
     "output_type": "display_data"
    }
   ],
   "source": [
    "plt.figure(figsize=(10,10))\n",
    "plt.xlim(550, 650)\n",
    "plt.plot(result[\"speed\"].unique())"
   ]
  },
  {
   "cell_type": "markdown",
   "metadata": {},
   "source": [
    "# Removing Wrong Data"
   ]
  },
  {
   "cell_type": "markdown",
   "metadata": {},
   "source": [
    "<b> There are several rows which can be easily identified as wrong values. We will be identifying these values below and will work on removing this data </b>"
   ]
  },
  {
   "cell_type": "markdown",
   "metadata": {},
   "source": [
    "<b> Observation :- </b> \n",
    "\n",
    "In the below cell we try to remove all rows where speed is less than 0 or the flow is less than zero. This is practically infeasible "
   ]
  },
  {
   "cell_type": "code",
   "execution_count": 12,
   "metadata": {
    "collapsed": false,
    "nbpresent": {
     "id": "e622fb1a-9f5e-4933-866d-f76a767f928d"
    }
   },
   "outputs": [],
   "source": [
    "removeResult1 = result[(result['speed'] < 0) | (result['flow'] < 0)]"
   ]
  },
  {
   "cell_type": "markdown",
   "metadata": {},
   "source": [
    "In the below cell we try to remove all rows where flow is equal to zero and speed is greater than zero. This is also practically not possible"
   ]
  },
  {
   "cell_type": "code",
   "execution_count": 13,
   "metadata": {
    "collapsed": true
   },
   "outputs": [],
   "source": [
    "removeResult2 = result[(result['flow'] == 0) & (result['speed'] > 0)]"
   ]
  },
  {
   "cell_type": "markdown",
   "metadata": {},
   "source": [
    "In the below cell we work on defining the Jam occupancy threshold which we had earlier defined while checking occupancy outliers "
   ]
  },
  {
   "cell_type": "code",
   "execution_count": 14,
   "metadata": {
    "collapsed": true
   },
   "outputs": [],
   "source": [
    "jam_occupancy_threshold = 120\n",
    "removeResult3 = result[((result['speed'] == 0) & \n",
    "                            (result['flow'] == 0) & \n",
    "                            (result['occupancy'] != 0) & \n",
    "                            (result['occupancy'] < jam_occupancy_threshold))]"
   ]
  },
  {
   "cell_type": "markdown",
   "metadata": {},
   "source": [
    "In the below cell we work on removing rows which have a speed of zero and an occupancy of zero but the flow is greater than zero. This is not possible practically"
   ]
  },
  {
   "cell_type": "code",
   "execution_count": 15,
   "metadata": {
    "collapsed": true
   },
   "outputs": [],
   "source": [
    "removeResult5 = result[(result['speed'] == 0) & (result['flow'] != 0) & (result[\"occupancy\"] == 0)]"
   ]
  },
  {
   "cell_type": "markdown",
   "metadata": {},
   "source": [
    "In the below cell we remove all the rows which contain a null value in any of the column. "
   ]
  },
  {
   "cell_type": "code",
   "execution_count": 16,
   "metadata": {
    "collapsed": true
   },
   "outputs": [],
   "source": [
    "removeResult6 = result[(pd.isnull(result['speed'])) | (pd.isnull(result['occupancy'])) | (pd.isnull(result['flow']))]"
   ]
  },
  {
   "cell_type": "markdown",
   "metadata": {},
   "source": [
    "# Insignificant Data\n",
    "\n",
    "In the below cell we work on defining the rows which have insignificant contribution to the data. This includes the condition where speed is zero, flow is zero and occupancy is also zero. This is a valid senario where there are no vehicles on the road. By running few observations we found more than 45,00,000 (45%) rows with such data in the first data set. Despite being correct, this data skews the probability distribution for all the other rows. Also, since we are interested in understanding the true outliers we can think about ignoring these rows. By this step, we get a remarkable increase in the efficiency with which we can determine the outliers.\n",
    "\n",
    "<b>HOWEVER WE HAVE NOT TAKEN THIS INTO CALCULATION AS PER TA COMMENTS ON PIAZZA</b>"
   ]
  },
  {
   "cell_type": "code",
   "execution_count": 17,
   "metadata": {
    "collapsed": true
   },
   "outputs": [],
   "source": [
    "#removeResult4 = result[(result['speed'] == 0) & (result['flow'] == 0) & (result[\"occupancy\"] == 0)]"
   ]
  },
  {
   "cell_type": "markdown",
   "metadata": {},
   "source": [
    "Finally removing all the wrong and insignificant data from the dataframe which would not be used for processing. "
   ]
  },
  {
   "cell_type": "code",
   "execution_count": 18,
   "metadata": {
    "collapsed": true
   },
   "outputs": [],
   "source": [
    "result = pd.concat([result,removeResult1,removeResult1]).drop_duplicates(keep=False)\n",
    "result = pd.concat([result,removeResult2,removeResult2]).drop_duplicates(keep=False)\n",
    "result = pd.concat([result,removeResult3,removeResult3]).drop_duplicates(keep=False)\n",
    "#result = pd.concat([result,removeResult4,removeResult4]).drop_duplicates(keep=False)\n",
    "result = pd.concat([result,removeResult5,removeResult5]).drop_duplicates(keep=False)\n",
    "result = pd.concat([result,removeResult6,removeResult6]).drop_duplicates(keep=False)"
   ]
  },
  {
   "cell_type": "markdown",
   "metadata": {},
   "source": [
    "Below we are indexing the data based on the timestamp and detector column value. This helps us in understanding how the data can be processed further for probability density calculation"
   ]
  },
  {
   "cell_type": "code",
   "execution_count": 19,
   "metadata": {
    "collapsed": false,
    "nbpresent": {
     "id": "e1577966-8610-4beb-b467-d6163d9a0abf"
    }
   },
   "outputs": [
    {
     "data": {
      "text/html": [
       "<div>\n",
       "<table border=\"1\" class=\"dataframe\">\n",
       "  <thead>\n",
       "    <tr style=\"text-align: right;\">\n",
       "      <th></th>\n",
       "      <th></th>\n",
       "      <th>flow</th>\n",
       "      <th>occupancy</th>\n",
       "      <th>speed</th>\n",
       "    </tr>\n",
       "    <tr>\n",
       "      <th>timestamp</th>\n",
       "      <th>detector</th>\n",
       "      <th></th>\n",
       "      <th></th>\n",
       "      <th></th>\n",
       "    </tr>\n",
       "  </thead>\n",
       "  <tbody>\n",
       "    <tr>\n",
       "      <th rowspan=\"3\" valign=\"top\">2006-09-01T00:01:07</th>\n",
       "      <th>x</th>\n",
       "      <td>9</td>\n",
       "      <td>4.0</td>\n",
       "      <td>67.0</td>\n",
       "    </tr>\n",
       "    <tr>\n",
       "      <th>y</th>\n",
       "      <td>4</td>\n",
       "      <td>2.0</td>\n",
       "      <td>60.0</td>\n",
       "    </tr>\n",
       "    <tr>\n",
       "      <th>z</th>\n",
       "      <td>255</td>\n",
       "      <td>4.0</td>\n",
       "      <td>0.0</td>\n",
       "    </tr>\n",
       "    <tr>\n",
       "      <th rowspan=\"2\" valign=\"top\">2006-09-01T00:02:07</th>\n",
       "      <th>x</th>\n",
       "      <td>11</td>\n",
       "      <td>4.0</td>\n",
       "      <td>66.0</td>\n",
       "    </tr>\n",
       "    <tr>\n",
       "      <th>y</th>\n",
       "      <td>10</td>\n",
       "      <td>5.0</td>\n",
       "      <td>64.0</td>\n",
       "    </tr>\n",
       "  </tbody>\n",
       "</table>\n",
       "</div>"
      ],
      "text/plain": [
       "                              flow  occupancy  speed\n",
       "timestamp           detector                        \n",
       "2006-09-01T00:01:07 x            9        4.0   67.0\n",
       "                    y            4        2.0   60.0\n",
       "                    z          255        4.0    0.0\n",
       "2006-09-01T00:02:07 x           11        4.0   66.0\n",
       "                    y           10        5.0   64.0"
      ]
     },
     "execution_count": 19,
     "metadata": {},
     "output_type": "execute_result"
    }
   ],
   "source": [
    "res = result.set_index([\"timestamp\",\"detector\"]).sort_index()\n",
    "res.head()"
   ]
  },
  {
   "cell_type": "markdown",
   "metadata": {
    "collapsed": false
   },
   "source": [
    "# Probability Density Calculation # Approach 1"
   ]
  },
  {
   "cell_type": "markdown",
   "metadata": {},
   "source": [
    "<h3> sampleData Function divides data into classes within specified threshold</h3>\n",
    "\n",
    "In this function we initialize variable <i><b>\"flowbins\"</b></i> which would contain the bins obtained after dividing the dataset based on the specified <i><b>\"threshold\"</b></i>. We also use the <i><b>\"columnName\"</b></i> variable to specify the column for which we are putting the values into the bins. The data falling between the specified <i><b>threshold</b></i> would be put into the same bin.\n",
    "\n",
    "<i> For e.g :- </i>\n",
    "\n",
    "If we specify the <i><b>threshold</b></i> for <i><b>flow</b></i> column as <i><b>15</b></i>, then the flow column would be divided into <i><b>20</b></i> different bins in the manner 0-14, 14-29 ....\n",
    "Similarly for all other columns we would have different values in <i><b>20</b></i> different bins based on <i><b>threshold</b></i>."
   ]
  },
  {
   "cell_type": "code",
   "execution_count": 20,
   "metadata": {
    "collapsed": true,
    "nbpresent": {
     "id": "fc67e0a3-4941-4a03-b6f1-dfd1040728c8"
    }
   },
   "outputs": [],
   "source": [
    "def sampleData(data, threshold, columnName):\n",
    "    flowBins = np.zeros(shape=(20,), dtype = object)\n",
    "    data = data.sort_values(columnName)\n",
    "    difference = threshold\n",
    "    high  = difference\n",
    "    low = 0;\n",
    "    for i in range(0, 20, 1):\n",
    "        b = data[data[columnName] < high]\n",
    "        b = b[b[columnName] >= low]\n",
    "        flowBins[i] = b\n",
    "        low = high\n",
    "        high = high + difference\n",
    "    return flowBins"
   ]
  },
  {
   "cell_type": "markdown",
   "metadata": {},
   "source": [
    "Calling sampleData function for  <i><b>flow</b></i> column with a <i><b>threshold</b></i> value of <i><b>15</b></i>. This signifies that with a flow in range of <i><b>0 - 300</b></i> we would divide the flow column into <i><b>20 bins</b></i> containing datasets beween the specified range. "
   ]
  },
  {
   "cell_type": "code",
   "execution_count": 21,
   "metadata": {
    "collapsed": false,
    "nbpresent": {
     "id": "bea8e9ee-a9fa-4bc2-bd6e-d7c54e0d9ce6"
    }
   },
   "outputs": [],
   "source": [
    "flowBins = np.zeros(shape=(20,), dtype = object)\n",
    "flow_threshold = 15;\n",
    "flowBins = sampleData(result, flow_threshold ,\"flow\")    "
   ]
  },
  {
   "cell_type": "markdown",
   "metadata": {},
   "source": [
    "Calling sampleData function for  <i><b>occupancy</b></i> column with a <i><b>threshold</b></i> value of <i><b>6</b></i>. This signifies that with a subset of the orginal dataset, containing flow in range of <i><b>0 - 15</b></i> in first bin, we would further divide the first flow bin into <i><b>20</b></i> bins with a threshold of <i><b>6</b></i> for occupancy i.e  <i><b>flow_occupancy_bin[1]</b></i> will contain 20 bins with each bin conatining values between 0-6, 7-14 ... "
   ]
  },
  {
   "cell_type": "code",
   "execution_count": 22,
   "metadata": {
    "collapsed": false,
    "nbpresent": {
     "id": "53edbfe6-45c5-4e31-8a10-4f4c9ad5c3bd"
    }
   },
   "outputs": [],
   "source": [
    "flow_occupancy_bin = np.ndarray(shape=(20,20), dtype = object)\n",
    "occupancy_threshold = 6;\n",
    "for i in range(0,20,1):\n",
    "    data = pd.DataFrame(flowBins[i])\n",
    "    flow_occupancy_bin[i] = sampleData(data, 6 ,\"occupancy\") "
   ]
  },
  {
   "cell_type": "markdown",
   "metadata": {
    "collapsed": false
   },
   "source": [
    "<h5> Finally .... </h5>\n",
    "<br>\n",
    "Calling sampleData function for  <i><b>speed</b></i> column with a <i><b>threshold</b></i> value of <i><b>13</b></i>. This signifies that with a subset of the orginal dataset, containing flow in range of <i><b>0 - 15</b></i> in first bin, and occupancy in the first bin in the range of <i><b>0 - 6</b></i>, we would further divide the first flow_occupancy_bin into <i><b>20</b></i> bins with a threshold of <i><b>6</b></i> for speed i.e  <i><b>flow_occupancy_speed_bin[1]</b></i> will contain 20 bins for speed with each bin conatining values between 0-13, 14-28 ... "
   ]
  },
  {
   "cell_type": "code",
   "execution_count": 23,
   "metadata": {
    "collapsed": false,
    "nbpresent": {
     "id": "5751f54e-6fee-41a7-8c69-0bf12414ef75"
    }
   },
   "outputs": [],
   "source": [
    "import numpy as np\n",
    "flow_occupancy_speed_bin = np.ndarray(shape=(20,20,20), dtype = object)\n",
    "speed_threshold = 13;\n",
    "\n",
    "for i in range(0,20,1):\n",
    "    for j in range(0,20,1):\n",
    "        data = flow_occupancy_bin[i][j];\n",
    "        flow_occupancy_speed_bin[i][j] = sampleData(data, 13 ,\"speed\") "
   ]
  },
  {
   "cell_type": "markdown",
   "metadata": {
    "collapsed": false,
    "scrolled": true
   },
   "source": [
    "# Iterating the flow_occupancy_speed_bin to compute probability density"
   ]
  },
  {
   "cell_type": "markdown",
   "metadata": {},
   "source": [
    "<h4> Possibly the most important step.... </h4>\n",
    "\n",
    "<br> In this step we find the probability density of the bins using the formula \n",
    "\n",
    "   <br><center><b><i> probability = points_inside_box / float(total_points * volume) </i></b></center>\n",
    "   <br> We iterate over the total number of available bins i.e 20 bins for flow, 20 bins for occupancy and 20 bins for speed to calculate total points_inside_box. Further we have already calculated the volume of each box i.e <b><i> volume = flow_threshold </i>x <i>occupancy_threshold</i> x <i>speed_threshold </i></b>. The total rows in the dataset is being calculated using <b><i> total_points = len(result) </i></b> which we plug into the above formula. This calculates the probability of each bin.\n",
    " <h3> Challenge in project </h3>  \n",
    "   <br> NOW...WE FACED PERFORMANCE ISSUES.....  :( :( \n",
    "   <br> WHAT TO DO NOW....\n",
    "   <br><br> The issue occoured while we were trying to merge back the probability column into a new dataframe to create our final result. It took almost half-hour to run through a single bin and merge it back to our existing dataframe. This way it would have taken days to complete this dataset. We searched and found this to be a drawback of dataframes.\n",
    "   http://stackoverflow.com/questions/31860671/pandas-append-perfomance-concat-append-using-larger-dataframes\n",
    "   \n",
    "   <br><br>Also, AWS setup would have again taken a significant time. Since, this was a Dataframe performance issue, we were not sure how much effect AWS would have. We needed to hit the problem at its core....\n",
    "   \n",
    "   <br> THEN CAME OUR SAVIOUR....TERMINAL :) :) \n",
    "   <br><br> We figured out that we can save all the bins to the file system i.e in CSV files. Using the capability of IPython notebook to run commands on command line directly. We created a new directory and saved all our output to that. Next we merged all the files into one file <b><i> \"merged.csv\" using terminal cat command</i></b>. Then we delete the output folder containing all the intermediate files. \n",
    "   <br> <b> This way we completed our file operations in 2-3 mins. :) </b>\n",
    "   \n",
    "   "
   ]
  },
  {
   "cell_type": "code",
   "execution_count": 24,
   "metadata": {
    "collapsed": true
   },
   "outputs": [],
   "source": [
    "!mkdir output"
   ]
  },
  {
   "cell_type": "code",
   "execution_count": 25,
   "metadata": {
    "collapsed": false,
    "nbpresent": {
     "id": "ee87d7e8-5676-426a-92ee-c250a8562613"
    }
   },
   "outputs": [],
   "source": [
    "final_result = pd.DataFrame(columns = [\"detector\",\"flow\",\"occupancy\",\"speed\",\"timestamp\", \"probability\"])\n",
    "total_points = len(result)\n",
    "volume = flow_threshold * occupancy_threshold * speed_threshold\n",
    "for i in range(0,20,1):\n",
    "    for j in range(0,20,1):\n",
    "        for k in range(0,20,1):\n",
    "            prob_data = flow_occupancy_speed_bin[i][j][k]\n",
    "            points_inside_box = prob_data.shape[0]\n",
    "            probability = points_inside_box/float(total_points * volume)\n",
    "            prob_data[\"probability\"] = probability\n",
    "            prob_data.to_csv(\"output/out\" + str(i) + '-' + str(j) + '-' + str(k) + \".csv\",sep=\"\\t\")       "
   ]
  },
  {
   "cell_type": "code",
   "execution_count": 26,
   "metadata": {
    "collapsed": false,
    "nbpresent": {
     "id": "992aafc5-532e-4b23-929a-bfd06f654eea"
    }
   },
   "outputs": [],
   "source": [
    "! cat output/*.csv > merged.csv"
   ]
  },
  {
   "cell_type": "code",
   "execution_count": 27,
   "metadata": {
    "collapsed": true
   },
   "outputs": [],
   "source": [
    "!rm -rf output/"
   ]
  },
  {
   "cell_type": "markdown",
   "metadata": {},
   "source": [
    "# Loading merged.csv and analyzing probability densities"
   ]
  },
  {
   "cell_type": "code",
   "execution_count": 28,
   "metadata": {
    "collapsed": false,
    "nbpresent": {
     "id": "09eb403f-89fc-4298-bf09-cd08f592ea17"
    }
   },
   "outputs": [
    {
     "name": "stderr",
     "output_type": "stream",
     "text": [
      "/Users/abhisheknigam/anaconda/lib/python3.5/site-packages/IPython/core/interactiveshell.py:2723: DtypeWarning: Columns (2,3,4,6) have mixed types. Specify dtype option on import or set low_memory=False.\n",
      "  interactivity=interactivity, compiler=compiler, result=result)\n"
     ]
    }
   ],
   "source": [
    "merged = pd.read_csv(\"merged.csv\", na_values=['-'], delimiter=\"\\t\", error_bad_lines=False)"
   ]
  },
  {
   "cell_type": "markdown",
   "metadata": {},
   "source": [
    "Cleaning unnecessary headers appended due to merge operation using terminal"
   ]
  },
  {
   "cell_type": "code",
   "execution_count": 29,
   "metadata": {
    "collapsed": false,
    "nbpresent": {
     "id": "8a3ac2dc-3579-4ba0-9276-e9c2a2cf7685"
    }
   },
   "outputs": [],
   "source": [
    "removeHeader = merged[merged[\"probability\"] == \"probability\"]\n",
    "merged = pd.concat([merged,removeHeader,removeHeader]).drop_duplicates(keep=False)"
   ]
  },
  {
   "cell_type": "markdown",
   "metadata": {},
   "source": [
    "Analyzing merged dataframe"
   ]
  },
  {
   "cell_type": "code",
   "execution_count": 30,
   "metadata": {
    "collapsed": false,
    "nbpresent": {
     "id": "11585525-c3b6-4374-abe1-1058180d98e6"
    }
   },
   "outputs": [
    {
     "data": {
      "text/html": [
       "<div>\n",
       "<table border=\"1\" class=\"dataframe\">\n",
       "  <thead>\n",
       "    <tr style=\"text-align: right;\">\n",
       "      <th></th>\n",
       "      <th>Unnamed: 0</th>\n",
       "      <th>detector</th>\n",
       "      <th>flow</th>\n",
       "      <th>occupancy</th>\n",
       "      <th>speed</th>\n",
       "      <th>timestamp</th>\n",
       "      <th>probability</th>\n",
       "    </tr>\n",
       "  </thead>\n",
       "  <tbody>\n",
       "    <tr>\n",
       "      <th>8693613</th>\n",
       "      <td>655561.0</td>\n",
       "      <td>x</td>\n",
       "      <td>145</td>\n",
       "      <td>4.0</td>\n",
       "      <td>20.0</td>\n",
       "      <td>2008-04-10T16:42:38</td>\n",
       "      <td>2.951987525821736e-10</td>\n",
       "    </tr>\n",
       "    <tr>\n",
       "      <th>8693634</th>\n",
       "      <td>132745.0</td>\n",
       "      <td>x</td>\n",
       "      <td>142</td>\n",
       "      <td>9.0</td>\n",
       "      <td>19.0</td>\n",
       "      <td>2007-01-25T16:30:32</td>\n",
       "      <td>9.839958419405786e-11</td>\n",
       "    </tr>\n",
       "    <tr>\n",
       "      <th>8693855</th>\n",
       "      <td>456477.0</td>\n",
       "      <td>x</td>\n",
       "      <td>135</td>\n",
       "      <td>14.0</td>\n",
       "      <td>16.0</td>\n",
       "      <td>2007-10-31T16:59:46</td>\n",
       "      <td>1.9679916838811572e-10</td>\n",
       "    </tr>\n",
       "    <tr>\n",
       "      <th>8693856</th>\n",
       "      <td>1243268.0</td>\n",
       "      <td>x</td>\n",
       "      <td>140</td>\n",
       "      <td>14.0</td>\n",
       "      <td>18.0</td>\n",
       "      <td>2009-07-01T15:49:49</td>\n",
       "      <td>1.9679916838811572e-10</td>\n",
       "    </tr>\n",
       "    <tr>\n",
       "      <th>8693897</th>\n",
       "      <td>1726037.0</td>\n",
       "      <td>x</td>\n",
       "      <td>140</td>\n",
       "      <td>24.0</td>\n",
       "      <td>15.0</td>\n",
       "      <td>2010-07-08T18:30:49</td>\n",
       "      <td>9.839958419405786e-11</td>\n",
       "    </tr>\n",
       "  </tbody>\n",
       "</table>\n",
       "</div>"
      ],
      "text/plain": [
       "         Unnamed: 0 detector flow occupancy speed            timestamp  \\\n",
       "8693613    655561.0        x  145       4.0  20.0  2008-04-10T16:42:38   \n",
       "8693634    132745.0        x  142       9.0  19.0  2007-01-25T16:30:32   \n",
       "8693855    456477.0        x  135      14.0  16.0  2007-10-31T16:59:46   \n",
       "8693856   1243268.0        x  140      14.0  18.0  2009-07-01T15:49:49   \n",
       "8693897   1726037.0        x  140      24.0  15.0  2010-07-08T18:30:49   \n",
       "\n",
       "                    probability  \n",
       "8693613   2.951987525821736e-10  \n",
       "8693634   9.839958419405786e-11  \n",
       "8693855  1.9679916838811572e-10  \n",
       "8693856  1.9679916838811572e-10  \n",
       "8693897   9.839958419405786e-11  "
      ]
     },
     "execution_count": 30,
     "metadata": {},
     "output_type": "execute_result"
    }
   ],
   "source": [
    "merged.tail()"
   ]
  },
  {
   "cell_type": "markdown",
   "metadata": {},
   "source": [
    "<h3> Assigning a probability density of zero to Known Bad Data</h3> "
   ]
  },
  {
   "cell_type": "code",
   "execution_count": 31,
   "metadata": {
    "collapsed": false
   },
   "outputs": [],
   "source": [
    "removeResult1[\"probability\"] = 0\n",
    "removeResult2[\"probability\"] = 0\n",
    "removeResult3[\"probability\"] = 0\n",
    "#removeResult4[\"probability\"] = 0\n",
    "removeResult5[\"probability\"] = 0\n",
    "removeResult6[\"probability\"] = 0"
   ]
  },
  {
   "cell_type": "markdown",
   "metadata": {},
   "source": [
    "<h3>Merging bad data back into our \"merged\" dataset.</h3>\n",
    "\n",
    "We append all the bad data with a probability density of zero into our \"merged\" dataset."
   ]
  },
  {
   "cell_type": "code",
   "execution_count": 32,
   "metadata": {
    "collapsed": true
   },
   "outputs": [],
   "source": [
    "merged = merged.append(removeResult1);\n",
    "merged = merged.append(removeResult2);\n",
    "merged = merged.append(removeResult3);\n",
    "#merged = merged.append(removeResult4);\n",
    "merged = merged.append(removeResult5);\n",
    "merged = merged.append(removeResult6);"
   ]
  },
  {
   "cell_type": "markdown",
   "metadata": {},
   "source": [
    "<h3> Sorting the merged dataset based on probability.</h3> \n",
    "<br>\n",
    "<b>We faced a challenge while sorting as probability column contained values with string datatype</b>. <i>So, we first converted the column to numberic and then we wrote the sorted result back to text file.</i> "
   ]
  },
  {
   "cell_type": "code",
   "execution_count": 33,
   "metadata": {
    "collapsed": true
   },
   "outputs": [],
   "source": [
    "merged[\"probability\"] = merged[\"probability\"].apply(pd.to_numeric)\n",
    "merged = merged.sort_values([\"probability\"])"
   ]
  },
  {
   "cell_type": "markdown",
   "metadata": {},
   "source": [
    "<br> <b>Here we are sampling the data before writing the output. The sampling is done on every 100th row of the merged dataset.</b>"
   ]
  },
  {
   "cell_type": "code",
   "execution_count": 34,
   "metadata": {
    "collapsed": false
   },
   "outputs": [],
   "source": [
    "final_columns = ['flow', 'speed', 'occupancy', 'probability']\n",
    "merged = merged[final_columns]\n",
    "final_result = pd.DataFrame(columns = [\"flow\",\"speed\",\"occupancy\", \"probability\"])\n",
    "\n",
    "for i in range(0,len(merged),100):\n",
    "    final_result = final_result.append(merged.iloc[[i]])\n",
    "final_result.to_csv(\"1160.txt\",sep=\"\\t\")"
   ]
  },
  {
   "cell_type": "markdown",
   "metadata": {},
   "source": [
    "# Probability Density visualization over unique values"
   ]
  },
  {
   "cell_type": "markdown",
   "metadata": {},
   "source": [
    "The below cell brings up a graph which plots the range of probability densities. It can be seen easily that the densities range from 10^-3 to 10^-10. This is a significant change in densities and gives us information obout outliers at both ends."
   ]
  },
  {
   "cell_type": "code",
   "execution_count": 35,
   "metadata": {
    "collapsed": false
   },
   "outputs": [
    {
     "data": {
      "text/plain": [
       "[<matplotlib.lines.Line2D at 0x1359ccbe0>]"
      ]
     },
     "execution_count": 35,
     "metadata": {},
     "output_type": "execute_result"
    },
    {
     "data": {
      "image/png": "[encoded data removed]",
      "text/plain": [
       "<matplotlib.figure.Figure at 0x1ef8e41d0>"
      ]
     },
     "metadata": {},
     "output_type": "display_data"
    }
   ],
   "source": [
    "plt.figure(figsize=(10,10))\n",
    "plt.yscale('log')\n",
    "plt.xlabel('count')\n",
    "plt.ylabel('log probabilities')\n",
    "plt.plot(np.sort(final_result['probability'].unique()))"
   ]
  },
  {
   "cell_type": "markdown",
   "metadata": {},
   "source": [
    "# Probability Density Calculation # Approach 2"
   ]
  },
  {
   "cell_type": "markdown",
   "metadata": {},
   "source": [
    "Since, we wanted to compare the results of our above approach with another method of probability density calculation, we went forward to implement another way of visualizing this. \n",
    "\n",
    "We outlined an approach where instead of dividing the data into multiple bins using a threshold, we divided the data equally into 20 bins. This way the volume of the bin would become variable and would require to be calculated in the following manner :- \n",
    "\n",
    "<i>\n",
    "  <br>flow_difference = prob_data.flow.max() - prob_data.flow.min()\n",
    "  <br>occupancy_difference = prob_data.occupancy.max() - prob_data.occupancy.min()\n",
    "  <br>speed_difference = prob_data.speed.max() - prob_data.speed.min()\n",
    "</i>\n",
    "\n",
    "<br><center><b><i> volume = flow_difference</i> x <i> occupancy_difference</i> x <i> speed_difference </i></b></center>\n",
    "<br>So, here instead of a variable number of vectors_in_box, the probability density would depend upon the volume of the box.\n",
    "\n",
    "probability = points_inside_box / float(total_points * volume)"
   ]
  },
  {
   "cell_type": "markdown",
   "metadata": {},
   "source": [
    "In the below step we define a low and a high value which indicates equal vectors being placed in every bin.\n",
    "Now, Calling the below code for  <i><b>flow</b></i> column with an initial <i><b>low and high</b></i> value of <i><b>0 and 20 respectively</b></i>. This signifies that with a flow column length of <i><b>1,00,00,000</b></i> we would divide the flow column into <i><b>20 bins</b></i> containing equal number of vectors in each bin. "
   ]
  },
  {
   "cell_type": "code",
   "execution_count": 36,
   "metadata": {
    "collapsed": true
   },
   "outputs": [],
   "source": [
    "low = 0;\n",
    "high1 = int(len(result)/20)\n",
    "BinNum = 20;\n",
    "length = high1 - low\n",
    "flowBins = np.zeros(shape=(20,high1), dtype = object)\n",
    "for i in range(0, 20, 1):\n",
    "    high = low + high1\n",
    "    flowBins[i] = [result[low : high]]\n",
    "    low = high"
   ]
  },
  {
   "cell_type": "markdown",
   "metadata": {},
   "source": [
    "Moving in a similar manner for <i><b>occupancy</b></i> column"
   ]
  },
  {
   "cell_type": "code",
   "execution_count": 37,
   "metadata": {
    "collapsed": true
   },
   "outputs": [],
   "source": [
    "import numpy as np\n",
    "flow_occupancy_bin = np.ndarray(shape=(20,20), dtype = object)\n",
    "y = 1;\n",
    "low = 0;\n",
    "for i in range(0,20,1):\n",
    "    data = pd.DataFrame(flowBins[i].reshape((-1,length))[0][0]);\n",
    "    data = data.sort_values([\"occupancy\"])\n",
    "    high1 = int(len(flowBins[1])/20)\n",
    "    low = 0\n",
    "    for j in range(0, 20, 1):\n",
    "        high = low + high1\n",
    "        flow_occupancy_bin[i][j] = [data[low : high]]\n",
    "        low = high"
   ]
  },
  {
   "cell_type": "markdown",
   "metadata": {},
   "source": [
    "Finally concluding for  <i><b>speed</b></i> column....\n",
    "<br>\n",
    "<br> Calling below code for  <i><b>speed</b></i> column with a initial <i><b>high and low</b></i> value of <i><b>0 and 20</b></i>. This signifies that with a subset of the orginal dataset, contains equal number of flow vectors in each bin,  equal number of occupancy vectors in the each bin and we would further divide the first flow_occupancy_bin into <i><b>20</b></i> bins containing equal number of speed vectors in each."
   ]
  },
  {
   "cell_type": "code",
   "execution_count": 38,
   "metadata": {
    "collapsed": true
   },
   "outputs": [],
   "source": [
    "import numpy as np\n",
    "flow_occupancy_speed_bin = np.ndarray(shape=(20,20,20), dtype = object)\n",
    "for i in range(0,20,1):\n",
    "    for k in range(0,20,1):\n",
    "        data = flow_occupancy_bin[i][k][0];\n",
    "        data = data.sort_values([\"speed\"])\n",
    "        low = 0;\n",
    "        high1 = int(len(flow_occupancy_bin[0][0][0])/20)\n",
    "        for j in range(0, 20, 1):\n",
    "            high = low + high1\n",
    "            flow_occupancy_speed_bin[i][k][j] = [data[low : high]]\n",
    "            low = high"
   ]
  },
  {
   "cell_type": "markdown",
   "metadata": {},
   "source": [
    "# Iterating and Calculating probability densities"
   ]
  },
  {
   "cell_type": "markdown",
   "metadata": {},
   "source": [
    "Similar to the idea outlined in #1 approach, here also we utilize the capability of IPython notebook to run command line directly. We iterate over the 20 bins of flow, 20 bins of occupancy and 20 bins of speed. Internally we calculate the volume and utilize the formula used in approach #1 to compute the probability distribution i.e \n",
    "<br><br><center><b><i> probability = points_inside_box / float(total_points * volume) </i></b></center>"
   ]
  },
  {
   "cell_type": "code",
   "execution_count": 39,
   "metadata": {
    "collapsed": true
   },
   "outputs": [],
   "source": [
    "!mkdir output"
   ]
  },
  {
   "cell_type": "code",
   "execution_count": 40,
   "metadata": {
    "collapsed": false
   },
   "outputs": [
    {
     "name": "stderr",
     "output_type": "stream",
     "text": [
      "/Users/abhisheknigam/anaconda/lib/python3.5/site-packages/ipykernel/__main__.py:13: SettingWithCopyWarning: \n",
      "A value is trying to be set on a copy of a slice from a DataFrame.\n",
      "Try using .loc[row_indexer,col_indexer] = value instead\n",
      "\n",
      "See the caveats in the documentation: http://pandas.pydata.org/pandas-docs/stable/indexing.html#indexing-view-versus-copy\n"
     ]
    }
   ],
   "source": [
    "vectors = len(result)\n",
    "for i in range(1,20,1):\n",
    "    for j in range(1,20,1):\n",
    "        for k in range(1,20,1):\n",
    "            prob_data = flow_occupancy_speed_bin[i][j][k][0]\n",
    "            currVectors = flow_occupancy_speed_bin[i][j][k][0].shape[0]\n",
    "            flow_difference = prob_data.flow.max() - prob_data.flow.min()\n",
    "            occupancy_difference = prob_data.occupancy.max() - prob_data.occupancy.min()\n",
    "            speed_difference = prob_data.speed.max() - prob_data.speed.min()\n",
    "            volume = flow_difference * occupancy_difference * speed_difference\n",
    "            if(volume == 0): volume =1\n",
    "            probability = currVectors/float(vectors * volume)\n",
    "            prob_data[\"probability\"] = probability\n",
    "            prob_data.to_csv(\"output/out\" + str(i) + '-' + str(j) + '-' + str(k) + \".csv\",sep=\"\\t\")  "
   ]
  },
  {
   "cell_type": "code",
   "execution_count": 41,
   "metadata": {
    "collapsed": true
   },
   "outputs": [],
   "source": [
    "! cat output/*.csv > merged-1.csv"
   ]
  },
  {
   "cell_type": "code",
   "execution_count": 42,
   "metadata": {
    "collapsed": true
   },
   "outputs": [],
   "source": [
    "!rm -rf output/"
   ]
  },
  {
   "cell_type": "markdown",
   "metadata": {},
   "source": [
    "# Loading merged.csv and analyzing probability densities"
   ]
  },
  {
   "cell_type": "code",
   "execution_count": 43,
   "metadata": {
    "collapsed": false
   },
   "outputs": [],
   "source": [
    "merged = pd.read_csv(\"merged-1.csv\", na_values=['-'], delimiter=\"\\t\", error_bad_lines=False)"
   ]
  },
  {
   "cell_type": "markdown",
   "metadata": {},
   "source": [
    "Cleaning unnecessary headers appended due to merge operation using terminal"
   ]
  },
  {
   "cell_type": "code",
   "execution_count": 44,
   "metadata": {
    "collapsed": false
   },
   "outputs": [],
   "source": [
    "removeHeader = merged[merged[\"probability\"] == \"probability\"]\n",
    "merged = pd.concat([merged,removeHeader,removeHeader]).drop_duplicates(keep=False)"
   ]
  },
  {
   "cell_type": "markdown",
   "metadata": {},
   "source": [
    "Analyzing merged dataframe"
   ]
  },
  {
   "cell_type": "code",
   "execution_count": 45,
   "metadata": {
    "collapsed": false
   },
   "outputs": [
    {
     "data": {
      "text/html": [
       "<div>\n",
       "<table border=\"1\" class=\"dataframe\">\n",
       "  <thead>\n",
       "    <tr style=\"text-align: right;\">\n",
       "      <th></th>\n",
       "      <th>Unnamed: 0</th>\n",
       "      <th>detector</th>\n",
       "      <th>flow</th>\n",
       "      <th>occupancy</th>\n",
       "      <th>speed</th>\n",
       "      <th>timestamp</th>\n",
       "      <th>probability</th>\n",
       "    </tr>\n",
       "  </thead>\n",
       "  <tbody>\n",
       "    <tr>\n",
       "      <th>7448868</th>\n",
       "      <td>1498145.0</td>\n",
       "      <td>y</td>\n",
       "      <td>29</td>\n",
       "      <td>4.0</td>\n",
       "      <td>62.0</td>\n",
       "      <td>2009-12-28T09:22:13</td>\n",
       "      <td>0.00012491335215514675</td>\n",
       "    </tr>\n",
       "    <tr>\n",
       "      <th>7448869</th>\n",
       "      <td>1563666.0</td>\n",
       "      <td>x</td>\n",
       "      <td>5</td>\n",
       "      <td>4.0</td>\n",
       "      <td>62.0</td>\n",
       "      <td>2010-03-12T00:24:09</td>\n",
       "      <td>0.00012491335215514675</td>\n",
       "    </tr>\n",
       "    <tr>\n",
       "      <th>7448870</th>\n",
       "      <td>1457989.0</td>\n",
       "      <td>x</td>\n",
       "      <td>11</td>\n",
       "      <td>4.0</td>\n",
       "      <td>62.0</td>\n",
       "      <td>2009-11-30T10:07:38</td>\n",
       "      <td>0.00012491335215514675</td>\n",
       "    </tr>\n",
       "    <tr>\n",
       "      <th>7448871</th>\n",
       "      <td>1548386.0</td>\n",
       "      <td>y</td>\n",
       "      <td>9</td>\n",
       "      <td>4.0</td>\n",
       "      <td>62.0</td>\n",
       "      <td>2010-02-03T19:33:46</td>\n",
       "      <td>0.00012491335215514675</td>\n",
       "    </tr>\n",
       "    <tr>\n",
       "      <th>7448872</th>\n",
       "      <td>1531388.0</td>\n",
       "      <td>y</td>\n",
       "      <td>11</td>\n",
       "      <td>4.0</td>\n",
       "      <td>62.0</td>\n",
       "      <td>2010-01-22T23:05:32</td>\n",
       "      <td>0.00012491335215514675</td>\n",
       "    </tr>\n",
       "  </tbody>\n",
       "</table>\n",
       "</div>"
      ],
      "text/plain": [
       "         Unnamed: 0 detector flow occupancy speed            timestamp  \\\n",
       "7448868   1498145.0        y   29       4.0  62.0  2009-12-28T09:22:13   \n",
       "7448869   1563666.0        x    5       4.0  62.0  2010-03-12T00:24:09   \n",
       "7448870   1457989.0        x   11       4.0  62.0  2009-11-30T10:07:38   \n",
       "7448871   1548386.0        y    9       4.0  62.0  2010-02-03T19:33:46   \n",
       "7448872   1531388.0        y   11       4.0  62.0  2010-01-22T23:05:32   \n",
       "\n",
       "                    probability  \n",
       "7448868  0.00012491335215514675  \n",
       "7448869  0.00012491335215514675  \n",
       "7448870  0.00012491335215514675  \n",
       "7448871  0.00012491335215514675  \n",
       "7448872  0.00012491335215514675  "
      ]
     },
     "execution_count": 45,
     "metadata": {},
     "output_type": "execute_result"
    }
   ],
   "source": [
    "merged.tail()"
   ]
  },
  {
   "cell_type": "markdown",
   "metadata": {},
   "source": [
    "<h3> Assigning a probability density of zero to Known Bad Data</h3> "
   ]
  },
  {
   "cell_type": "code",
   "execution_count": 46,
   "metadata": {
    "collapsed": false
   },
   "outputs": [],
   "source": [
    "removeResult1[\"probability\"] = 0\n",
    "removeResult2[\"probability\"] = 0\n",
    "removeResult3[\"probability\"] = 0\n",
    "#removeResult4[\"probability\"] = 0\n",
    "removeResult5[\"probability\"] = 0\n",
    "removeResult6[\"probability\"] = 0"
   ]
  },
  {
   "cell_type": "markdown",
   "metadata": {},
   "source": [
    "<h3>Merging bad data back into our \"merged\" dataset.</h3>\n",
    "\n",
    "We append all the bad data with a probability density of zero into our \"merged\" dataset."
   ]
  },
  {
   "cell_type": "code",
   "execution_count": 47,
   "metadata": {
    "collapsed": true
   },
   "outputs": [],
   "source": [
    "merged = merged.append(removeResult1);\n",
    "merged = merged.append(removeResult2);\n",
    "merged = merged.append(removeResult3);\n",
    "#merged = merged.append(removeResult4);\n",
    "merged = merged.append(removeResult5);\n",
    "merged = merged.append(removeResult6);"
   ]
  },
  {
   "cell_type": "markdown",
   "metadata": {},
   "source": [
    "<h3> Sorting the merged dataset based on probability.</h3> \n",
    "<br>\n",
    "<b>We faced a challenge while sorting as probability column contained values with string datatype</b>. <i>So, we first converted the column to numberic and then we wrote the sorted result back to text file.</i> "
   ]
  },
  {
   "cell_type": "code",
   "execution_count": 48,
   "metadata": {
    "collapsed": true
   },
   "outputs": [],
   "source": [
    "merged[\"probability\"] = merged[\"probability\"].apply(pd.to_numeric)\n",
    "merged = merged.sort_values([\"probability\"])"
   ]
  },
  {
   "cell_type": "markdown",
   "metadata": {},
   "source": [
    "<br> <b>Here we are sampling the data before writing the output. The sampling is done on every 100th row of the merged dataset.</b>"
   ]
  },
  {
   "cell_type": "code",
   "execution_count": 49,
   "metadata": {
    "collapsed": false
   },
   "outputs": [],
   "source": [
    "final_columns = ['flow', 'speed', 'occupancy', 'probability']\n",
    "merged = merged[final_columns]\n",
    "final_result = pd.DataFrame(columns = [\"flow\",\"speed\",\"occupancy\", \"probability\"])\n",
    "\n",
    "for i in range(0,len(merged),100):\n",
    "    final_result = final_result.append(merged.iloc[[i]])\n",
    "final_result.to_csv(\"1160-1.txt\",sep=\"\\t\")"
   ]
  },
  {
   "cell_type": "markdown",
   "metadata": {},
   "source": [
    "# Probability Density visualization over unique values"
   ]
  },
  {
   "cell_type": "markdown",
   "metadata": {},
   "source": [
    "The below cell brings up a graph which plots the range of probability densities. It can be seen easily that the densities range from 10^-3 to 10^-8. This is a significant change in densities and gives us information obout outliers at both ends. "
   ]
  },
  {
   "cell_type": "code",
   "execution_count": 50,
   "metadata": {
    "collapsed": false
   },
   "outputs": [
    {
     "data": {
      "text/plain": [
       "[<matplotlib.lines.Line2D at 0x2217daa90>]"
      ]
     },
     "execution_count": 50,
     "metadata": {},
     "output_type": "execute_result"
    },
    {
     "data": {
      "image/png": "[encoded data removed]",
      "text/plain": [
       "<matplotlib.figure.Figure at 0x21852a400>"
      ]
     },
     "metadata": {},
     "output_type": "display_data"
    }
   ],
   "source": [
    "plt.figure(figsize=(10,10))\n",
    "plt.yscale('log')\n",
    "plt.xlabel('count')\n",
    "plt.ylabel('log probabilities')\n",
    "plt.plot(np.sort(final_result['probability'].unique()))"
   ]
  },
  {
   "cell_type": "markdown",
   "metadata": {},
   "source": [
    "# Comparison of the two approaches"
   ]
  },
  {
   "cell_type": "markdown",
   "metadata": {},
   "source": [
    "<i>If we compare the two approaches, we see that with the #1 approach, we get a much smoother graph with better density distribution towards the ends. In the #2 approach, the lowest and highest densities are concetrated to a higher degree towards the ends, which means that the distribution of densities is more extreme when compared with the #1 approach. </i>. \n",
    "\n",
    "<br><b>Other significant differences</b><br><br>\n",
    "\n",
    "<b>#1 Approach</b> has unequal amount of data in each bin. This way we may end up having most of the data concentrated in some bins and other bins having significantly very less data. This may lead to :- \n",
    "<br><br>a) This may also result in some bins being empty.\n",
    "<br><br>b) Best feature of this approach is that it would isolate the possible outliers in the data therefore giving a better probability distribution as compared to approach \n",
    "<br><br><br><br>\n",
    "<b>#2 Approach</b> has equal amount of data in each bin. This way the data is equally distributed over all the bins. But with this approach we may end up classifying some good data with the outliers which can practically result in either of the two cases :-\n",
    "<br><br>a) Good data with a small number of possible outliers increases the probability distribution of the entire bin inturn making it difficult to identify the outliers.\n",
    "<br><br>b) Good data with a large number of possible outliers decreases the probability distribution of the entire bin inturn making the good data to be treated as an outlier."
   ]
  },
  {
   "cell_type": "markdown",
   "metadata": {},
   "source": [
    "# Probability Density Calculation using K-Mean Clustering # Approach 3"
   ]
  },
  {
   "cell_type": "code",
   "execution_count": null,
   "metadata": {
    "collapsed": true
   },
   "outputs": [],
   "source": []
  }
 ],
 "metadata": {
  "anaconda-cloud": {},
  "kernelspec": {
   "display_name": "Python [Root]",
   "language": "python",
   "name": "Python [Root]"
  },
  "language_info": {
   "codemirror_mode": {
    "name": "ipython",
    "version": 3
   },
   "file_extension": ".py",
   "mimetype": "text/x-python",
   "name": "python",
   "nbconvert_exporter": "python",
   "pygments_lexer": "ipython3",
   "version": "3.5.2"
  }
 },
 "nbformat": 4,
 "nbformat_minor": 0
}
