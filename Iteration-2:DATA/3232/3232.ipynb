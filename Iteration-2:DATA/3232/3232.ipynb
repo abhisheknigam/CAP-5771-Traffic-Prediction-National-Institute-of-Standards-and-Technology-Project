{
 "cells": [
  {
   "cell_type": "code",
   "execution_count": 1,
   "metadata": {
    "collapsed": true
   },
   "outputs": [],
   "source": [
    "import pylab\n",
    "import pandas as pd\n",
    "import numpy as np\n",
    "import matplotlib.pyplot as plt\n",
    "%matplotlib inline"
   ]
  },
  {
   "cell_type": "code",
   "execution_count": 2,
   "metadata": {
    "collapsed": true
   },
   "outputs": [],
   "source": [
    "flow = pd.read_csv(\"flow.tsv\", na_values=['-'], delimiter=\"\\t\", error_bad_lines=False)\n",
    "occupancy = pd.read_csv(\"occupancy.tsv\", na_values=['-'], delimiter=\"\\t\", error_bad_lines=False)\n",
    "speed = pd.read_csv(\"speed.tsv\", na_values=['-'], delimiter=\"\\t\", error_bad_lines=False)\n",
    "timestamp = pd.read_csv(\"timestamp.tsv\", na_values=['-'], delimiter=\"\\t\", error_bad_lines=False)"
   ]
  },
  {
   "cell_type": "code",
   "execution_count": 3,
   "metadata": {
    "collapsed": false
   },
   "outputs": [
    {
     "data": {
      "text/html": [
       "<div>\n",
       "<table border=\"1\" class=\"dataframe\">\n",
       "  <thead>\n",
       "    <tr style=\"text-align: right;\">\n",
       "      <th></th>\n",
       "      <th>14</th>\n",
       "      <th>13</th>\n",
       "    </tr>\n",
       "  </thead>\n",
       "  <tbody>\n",
       "    <tr>\n",
       "      <th>0</th>\n",
       "      <td>21.0</td>\n",
       "      <td>20.0</td>\n",
       "    </tr>\n",
       "    <tr>\n",
       "      <th>1</th>\n",
       "      <td>7.0</td>\n",
       "      <td>6.0</td>\n",
       "    </tr>\n",
       "    <tr>\n",
       "      <th>2</th>\n",
       "      <td>26.0</td>\n",
       "      <td>23.0</td>\n",
       "    </tr>\n",
       "    <tr>\n",
       "      <th>3</th>\n",
       "      <td>9.0</td>\n",
       "      <td>12.0</td>\n",
       "    </tr>\n",
       "    <tr>\n",
       "      <th>4</th>\n",
       "      <td>16.0</td>\n",
       "      <td>16.0</td>\n",
       "    </tr>\n",
       "  </tbody>\n",
       "</table>\n",
       "</div>"
      ],
      "text/plain": [
       "     14    13\n",
       "0  21.0  20.0\n",
       "1   7.0   6.0\n",
       "2  26.0  23.0\n",
       "3   9.0  12.0\n",
       "4  16.0  16.0"
      ]
     },
     "execution_count": 3,
     "metadata": {},
     "output_type": "execute_result"
    }
   ],
   "source": [
    "flow.head()"
   ]
  },
  {
   "cell_type": "code",
   "execution_count": 4,
   "metadata": {
    "collapsed": false
   },
   "outputs": [],
   "source": [
    "df = pd.concat([flow,occupancy,speed,timestamp], axis=1)"
   ]
  },
  {
   "cell_type": "code",
   "execution_count": 6,
   "metadata": {
    "collapsed": false
   },
   "outputs": [
    {
     "data": {
      "text/html": [
       "<div>\n",
       "<table border=\"1\" class=\"dataframe\">\n",
       "  <thead>\n",
       "    <tr style=\"text-align: right;\">\n",
       "      <th></th>\n",
       "      <th>flow1</th>\n",
       "      <th>flow2</th>\n",
       "      <th>occupancy1</th>\n",
       "      <th>occupancy2</th>\n",
       "      <th>speed1</th>\n",
       "      <th>speed2</th>\n",
       "      <th>timestamp</th>\n",
       "    </tr>\n",
       "  </thead>\n",
       "  <tbody>\n",
       "    <tr>\n",
       "      <th>0</th>\n",
       "      <td>21.0</td>\n",
       "      <td>20.0</td>\n",
       "      <td>9.0</td>\n",
       "      <td>11.0</td>\n",
       "      <td>58.2</td>\n",
       "      <td>63.0</td>\n",
       "      <td>2009-08-19T15:05:52</td>\n",
       "    </tr>\n",
       "    <tr>\n",
       "      <th>1</th>\n",
       "      <td>7.0</td>\n",
       "      <td>6.0</td>\n",
       "      <td>2.0</td>\n",
       "      <td>2.0</td>\n",
       "      <td>60.0</td>\n",
       "      <td>63.0</td>\n",
       "      <td>2009-08-19T15:06:52</td>\n",
       "    </tr>\n",
       "    <tr>\n",
       "      <th>2</th>\n",
       "      <td>26.0</td>\n",
       "      <td>23.0</td>\n",
       "      <td>10.0</td>\n",
       "      <td>10.0</td>\n",
       "      <td>58.8</td>\n",
       "      <td>61.8</td>\n",
       "      <td>2009-08-19T15:07:53</td>\n",
       "    </tr>\n",
       "    <tr>\n",
       "      <th>3</th>\n",
       "      <td>9.0</td>\n",
       "      <td>12.0</td>\n",
       "      <td>3.0</td>\n",
       "      <td>6.0</td>\n",
       "      <td>61.8</td>\n",
       "      <td>61.8</td>\n",
       "      <td>2009-08-19T15:08:53</td>\n",
       "    </tr>\n",
       "    <tr>\n",
       "      <th>4</th>\n",
       "      <td>16.0</td>\n",
       "      <td>16.0</td>\n",
       "      <td>6.0</td>\n",
       "      <td>7.0</td>\n",
       "      <td>64.8</td>\n",
       "      <td>63.6</td>\n",
       "      <td>2009-08-19T15:09:53</td>\n",
       "    </tr>\n",
       "  </tbody>\n",
       "</table>\n",
       "</div>"
      ],
      "text/plain": [
       "   flow1  flow2  occupancy1  occupancy2  speed1  speed2            timestamp\n",
       "0   21.0   20.0         9.0        11.0    58.2    63.0  2009-08-19T15:05:52\n",
       "1    7.0    6.0         2.0         2.0    60.0    63.0  2009-08-19T15:06:52\n",
       "2   26.0   23.0        10.0        10.0    58.8    61.8  2009-08-19T15:07:53\n",
       "3    9.0   12.0         3.0         6.0    61.8    61.8  2009-08-19T15:08:53\n",
       "4   16.0   16.0         6.0         7.0    64.8    63.6  2009-08-19T15:09:53"
      ]
     },
     "execution_count": 6,
     "metadata": {},
     "output_type": "execute_result"
    }
   ],
   "source": [
    "df.columns = ['flow1','flow2','occupancy1','occupancy2','speed1','speed2','timestamp']\n",
    "df.head()"
   ]
  },
  {
   "cell_type": "code",
   "execution_count": 7,
   "metadata": {
    "collapsed": false
   },
   "outputs": [],
   "source": [
    "df1 =  pd.DataFrame({\"flow\" : df.flow1, \"occupancy\" : df.occupancy1,\"speed\" : df.speed1,\"timestamp\" : df.timestamp,\"detector\" : \"x\"})\n",
    "df2 = pd.DataFrame({\"flow\" : df.flow2, \"occupancy\" : df.occupancy2,\"speed\" : df.speed2,\"timestamp\" : df.timestamp,\"detector\" : \"y\"})"
   ]
  },
  {
   "cell_type": "code",
   "execution_count": 8,
   "metadata": {
    "collapsed": false
   },
   "outputs": [],
   "source": [
    "frames = [df1, df2]\n",
    "result = pd.concat(frames)"
   ]
  },
  {
   "cell_type": "code",
   "execution_count": 9,
   "metadata": {
    "collapsed": false
   },
   "outputs": [],
   "source": [
    "result = result.sort_values(\"timestamp\")"
   ]
  },
  {
   "cell_type": "code",
   "execution_count": 10,
   "metadata": {
    "collapsed": false
   },
   "outputs": [
    {
     "data": {
      "text/html": [
       "<div>\n",
       "<table border=\"1\" class=\"dataframe\">\n",
       "  <thead>\n",
       "    <tr style=\"text-align: right;\">\n",
       "      <th></th>\n",
       "      <th>detector</th>\n",
       "      <th>flow</th>\n",
       "      <th>occupancy</th>\n",
       "      <th>speed</th>\n",
       "      <th>timestamp</th>\n",
       "    </tr>\n",
       "  </thead>\n",
       "  <tbody>\n",
       "    <tr>\n",
       "      <th>0</th>\n",
       "      <td>x</td>\n",
       "      <td>21.0</td>\n",
       "      <td>9.0</td>\n",
       "      <td>58.2</td>\n",
       "      <td>2009-08-19T15:05:52</td>\n",
       "    </tr>\n",
       "    <tr>\n",
       "      <th>0</th>\n",
       "      <td>y</td>\n",
       "      <td>20.0</td>\n",
       "      <td>11.0</td>\n",
       "      <td>63.0</td>\n",
       "      <td>2009-08-19T15:05:52</td>\n",
       "    </tr>\n",
       "    <tr>\n",
       "      <th>1</th>\n",
       "      <td>y</td>\n",
       "      <td>6.0</td>\n",
       "      <td>2.0</td>\n",
       "      <td>63.0</td>\n",
       "      <td>2009-08-19T15:06:52</td>\n",
       "    </tr>\n",
       "    <tr>\n",
       "      <th>1</th>\n",
       "      <td>x</td>\n",
       "      <td>7.0</td>\n",
       "      <td>2.0</td>\n",
       "      <td>60.0</td>\n",
       "      <td>2009-08-19T15:06:52</td>\n",
       "    </tr>\n",
       "    <tr>\n",
       "      <th>2</th>\n",
       "      <td>x</td>\n",
       "      <td>26.0</td>\n",
       "      <td>10.0</td>\n",
       "      <td>58.8</td>\n",
       "      <td>2009-08-19T15:07:53</td>\n",
       "    </tr>\n",
       "  </tbody>\n",
       "</table>\n",
       "</div>"
      ],
      "text/plain": [
       "  detector  flow  occupancy  speed            timestamp\n",
       "0        x  21.0        9.0   58.2  2009-08-19T15:05:52\n",
       "0        y  20.0       11.0   63.0  2009-08-19T15:05:52\n",
       "1        y   6.0        2.0   63.0  2009-08-19T15:06:52\n",
       "1        x   7.0        2.0   60.0  2009-08-19T15:06:52\n",
       "2        x  26.0       10.0   58.8  2009-08-19T15:07:53"
      ]
     },
     "execution_count": 10,
     "metadata": {},
     "output_type": "execute_result"
    }
   ],
   "source": [
    "result.head()"
   ]
  },
  {
   "cell_type": "code",
   "execution_count": 11,
   "metadata": {
    "collapsed": false
   },
   "outputs": [
    {
     "data": {
      "text/plain": [
       "[<matplotlib.lines.Line2D at 0x1152abf98>]"
      ]
     },
     "execution_count": 11,
     "metadata": {},
     "output_type": "execute_result"
    },
    {
     "data": {
      "image/png": "[encoded data removed]",
      "text/plain": [
       "<matplotlib.figure.Figure at 0x115137160>"
      ]
     },
     "metadata": {},
     "output_type": "display_data"
    }
   ],
   "source": [
    "# Finding outlier values for Occoupancy\n",
    "val = np.sort(result[\"occupancy\"].unique())\n",
    "plt.plot(val)"
   ]
  },
  {
   "cell_type": "code",
   "execution_count": 13,
   "metadata": {
    "collapsed": false
   },
   "outputs": [
    {
     "name": "stdout",
     "output_type": "stream",
     "text": [
      "[-51. -49. -47. -46. -45. -44. -43. -41. -40. -39. -38. -37. -36. -35. -34.\n",
      " -33. -32. -31. -30. -29. -28. -27. -26. -25. -24. -23. -22. -21. -20. -19.\n",
      " -18. -17. -16. -15. -14. -13. -12. -11. -10.  -9.  -8.  -7.  -6.  -5.  -4.\n",
      "  -3.  -2.  -1.   0.   1.   2.   3.   4.   5.   6.   7.   8.   9.  10.  11.\n",
      "  12.  13.  14.  15.  16.  17.  18.  19.  20.  21.  22.  23.  24.  25.  26.\n",
      "  27.  28.  29.  30.  31.  32.  33.  34.  35.  36.  37.  38.  39.  40.  41.\n",
      "  42.  43.  44.  45.  46.  47.  48.  49.  50.  51.  52.  53.  54.  55.  56.\n",
      "  57.  58.  59.  60.  61.  62.  63.  64.  65.  66.  67.  68.  69.  70.  71.\n",
      "  72.  73.  74.  75.  76.  nan]\n"
     ]
    }
   ],
   "source": [
    "print (np.sort(result[\"flow\"].unique()))"
   ]
  },
  {
   "cell_type": "code",
   "execution_count": 14,
   "metadata": {
    "collapsed": false
   },
   "outputs": [
    {
     "data": {
      "text/plain": [
       "[<matplotlib.lines.Line2D at 0x11534d7b8>]"
      ]
     },
     "execution_count": 14,
     "metadata": {},
     "output_type": "execute_result"
    },
    {
     "data": {
      "image/png": "[encoded data removed]",
      "text/plain": [
       "<matplotlib.figure.Figure at 0x115137fd0>"
      ]
     },
     "metadata": {},
     "output_type": "display_data"
    }
   ],
   "source": [
    "# Outlier speed visualization\n",
    "plt.figure(figsize=(10,10))\n",
    "plt.plot(np.sort(result[\"speed\"].unique()))"
   ]
  },
  {
   "cell_type": "code",
   "execution_count": 16,
   "metadata": {
    "collapsed": false
   },
   "outputs": [],
   "source": [
    "removeResult1 = result[(result['speed'] < 0) | (result['flow'] < 0)]\n",
    "removeResult2 = result[(result['flow'] == 0) & (result['speed'] > 0)]\n",
    "jam_occupancy_threshold = 100\n",
    "removeResult3 = result[((result['speed'] == 0) & \n",
    "                            (result['flow'] == 0) & \n",
    "                            (result['occupancy'] != 0) & \n",
    "                            (result['occupancy'] < jam_occupancy_threshold))]\n",
    "#removeResult4 = result[(result['speed'] == 0) & (result['flow'] == 0) & (result[\"occupancy\"] == 0)]\n",
    "removeResult5 = result[(result['speed'] == 0) & (result['flow'] != 0) & (result[\"occupancy\"] == 0)]\n",
    "removeResult6 = result[(pd.isnull(result['speed'])) | (pd.isnull(result['occupancy'])) | (pd.isnull(result['flow']))]"
   ]
  },
  {
   "cell_type": "code",
   "execution_count": 17,
   "metadata": {
    "collapsed": false
   },
   "outputs": [
    {
     "data": {
      "text/html": [
       "<div>\n",
       "<table border=\"1\" class=\"dataframe\">\n",
       "  <thead>\n",
       "    <tr style=\"text-align: right;\">\n",
       "      <th></th>\n",
       "      <th>detector</th>\n",
       "      <th>flow</th>\n",
       "      <th>occupancy</th>\n",
       "      <th>speed</th>\n",
       "      <th>timestamp</th>\n",
       "    </tr>\n",
       "  </thead>\n",
       "  <tbody>\n",
       "    <tr>\n",
       "      <th>0</th>\n",
       "      <td>x</td>\n",
       "      <td>21.0</td>\n",
       "      <td>9.0</td>\n",
       "      <td>58.2</td>\n",
       "      <td>2009-08-19T15:05:52</td>\n",
       "    </tr>\n",
       "    <tr>\n",
       "      <th>0</th>\n",
       "      <td>y</td>\n",
       "      <td>20.0</td>\n",
       "      <td>11.0</td>\n",
       "      <td>63.0</td>\n",
       "      <td>2009-08-19T15:05:52</td>\n",
       "    </tr>\n",
       "    <tr>\n",
       "      <th>1</th>\n",
       "      <td>y</td>\n",
       "      <td>6.0</td>\n",
       "      <td>2.0</td>\n",
       "      <td>63.0</td>\n",
       "      <td>2009-08-19T15:06:52</td>\n",
       "    </tr>\n",
       "    <tr>\n",
       "      <th>1</th>\n",
       "      <td>x</td>\n",
       "      <td>7.0</td>\n",
       "      <td>2.0</td>\n",
       "      <td>60.0</td>\n",
       "      <td>2009-08-19T15:06:52</td>\n",
       "    </tr>\n",
       "    <tr>\n",
       "      <th>2</th>\n",
       "      <td>x</td>\n",
       "      <td>26.0</td>\n",
       "      <td>10.0</td>\n",
       "      <td>58.8</td>\n",
       "      <td>2009-08-19T15:07:53</td>\n",
       "    </tr>\n",
       "  </tbody>\n",
       "</table>\n",
       "</div>"
      ],
      "text/plain": [
       "  detector  flow  occupancy  speed            timestamp\n",
       "0        x  21.0        9.0   58.2  2009-08-19T15:05:52\n",
       "0        y  20.0       11.0   63.0  2009-08-19T15:05:52\n",
       "1        y   6.0        2.0   63.0  2009-08-19T15:06:52\n",
       "1        x   7.0        2.0   60.0  2009-08-19T15:06:52\n",
       "2        x  26.0       10.0   58.8  2009-08-19T15:07:53"
      ]
     },
     "execution_count": 17,
     "metadata": {},
     "output_type": "execute_result"
    }
   ],
   "source": [
    "result.head()"
   ]
  },
  {
   "cell_type": "code",
   "execution_count": 18,
   "metadata": {
    "collapsed": false
   },
   "outputs": [],
   "source": [
    "res = result.set_index([\"timestamp\",\"detector\"]).sort_index()"
   ]
  },
  {
   "cell_type": "code",
   "execution_count": 19,
   "metadata": {
    "collapsed": false
   },
   "outputs": [],
   "source": [
    "result = pd.concat([result,removeResult1,removeResult1]).drop_duplicates(keep=False)\n",
    "result = pd.concat([result,removeResult2,removeResult2]).drop_duplicates(keep=False)\n",
    "result = pd.concat([result,removeResult3,removeResult3]).drop_duplicates(keep=False)\n",
    "#result = pd.concat([result,removeResult4,removeResult4]).drop_duplicates(keep=False)\n",
    "result = pd.concat([result,removeResult5,removeResult5]).drop_duplicates(keep=False)\n",
    "result = pd.concat([result,removeResult6,removeResult6]).drop_duplicates(keep=False)"
   ]
  },
  {
   "cell_type": "code",
   "execution_count": 20,
   "metadata": {
    "collapsed": false
   },
   "outputs": [],
   "source": [
    "result = result.sort_values([\"flow\"])"
   ]
  },
  {
   "cell_type": "code",
   "execution_count": 21,
   "metadata": {
    "collapsed": true
   },
   "outputs": [],
   "source": [
    "def sampleData(data, threshold, columnName):\n",
    "    flowBins = np.zeros(shape=(20,), dtype = object)\n",
    "    data = data.sort_values(columnName)\n",
    "    difference = threshold\n",
    "    high  = difference\n",
    "    low = 0;\n",
    "    for i in range(0, 20, 1):\n",
    "        b = data[data[columnName] < high]\n",
    "        b = b[b[columnName] >= low]\n",
    "        flowBins[i] = b\n",
    "        low = high\n",
    "        high = high + difference\n",
    "    return flowBins"
   ]
  },
  {
   "cell_type": "code",
   "execution_count": 22,
   "metadata": {
    "collapsed": false
   },
   "outputs": [],
   "source": [
    "flowBins = np.zeros(shape=(20,), dtype = object)\n",
    "flowBins = sampleData(result, 4 ,\"flow\")    "
   ]
  },
  {
   "cell_type": "code",
   "execution_count": 23,
   "metadata": {
    "collapsed": false
   },
   "outputs": [],
   "source": [
    "\n",
    "flow_occupancy_bin = np.ndarray(shape=(20,20), dtype = object)\n",
    "for i in range(0,20,1):\n",
    "    data = pd.DataFrame(flowBins[i])\n",
    "    flow_occupancy_bin[i] = sampleData(data, 6 ,\"occupancy\") "
   ]
  },
  {
   "cell_type": "code",
   "execution_count": 24,
   "metadata": {
    "collapsed": false
   },
   "outputs": [],
   "source": [
    "flow_occupancy_speed_bin = np.ndarray(shape=(20,20,20), dtype = object)\n",
    "for i in range(0,20,1):\n",
    "    for j in range(0,20,1):\n",
    "        data = flow_occupancy_bin[i][j];\n",
    "        flow_occupancy_speed_bin[i][j] = sampleData(data, 7 ,\"speed\") "
   ]
  },
  {
   "cell_type": "code",
   "execution_count": 25,
   "metadata": {
    "collapsed": true
   },
   "outputs": [],
   "source": [
    "!mkdir output"
   ]
  },
  {
   "cell_type": "code",
   "execution_count": 26,
   "metadata": {
    "collapsed": false
   },
   "outputs": [],
   "source": [
    "final_result = pd.DataFrame(columns = [\"detector\",\"flow\",\"occupancy\",\"speed\",\"timestamp\", \"probability\"])\n",
    "total_points = len(result)\n",
    "for i in range(0,20,1):\n",
    "    for j in range(0,20,1):\n",
    "        for k in range(0,20,1):\n",
    "            prob_data = flow_occupancy_speed_bin[i][j][k]\n",
    "            points_inside_box = prob_data.shape[0]\n",
    "            f = prob_data.flow.max() - prob_data.flow.min()\n",
    "            o = prob_data.occupancy.max() - prob_data.occupancy.min()\n",
    "            s = prob_data.speed.max() - prob_data.speed.min()\n",
    "            volume = 1170\n",
    "            if(volume == 0): volume =1\n",
    "            probability = points_inside_box/float(total_points * volume)\n",
    "            prob_data[\"probability\"] = probability\n",
    "            prob_data.to_csv(\"output/out\" + str(i) + '-' + str(j) + '-' + str(k) + \".csv\",sep=\"\\t\")"
   ]
  },
  {
   "cell_type": "code",
   "execution_count": 27,
   "metadata": {
    "collapsed": false
   },
   "outputs": [],
   "source": [
    "! cat output/*.csv > merged.csv"
   ]
  },
  {
   "cell_type": "code",
   "execution_count": 28,
   "metadata": {
    "collapsed": false
   },
   "outputs": [],
   "source": [
    "!rm -rf output/"
   ]
  },
  {
   "cell_type": "code",
   "execution_count": 29,
   "metadata": {
    "collapsed": false
   },
   "outputs": [
    {
     "name": "stderr",
     "output_type": "stream",
     "text": [
      "/Users/abhisheknigam/anaconda/lib/python3.5/site-packages/IPython/core/interactiveshell.py:2723: DtypeWarning: Columns (2,3,4,6) have mixed types. Specify dtype option on import or set low_memory=False.\n",
      "  interactivity=interactivity, compiler=compiler, result=result)\n"
     ]
    }
   ],
   "source": [
    "merged = pd.read_csv(\"merged.csv\", na_values=['-'], delimiter=\"\\t\", error_bad_lines=False)"
   ]
  },
  {
   "cell_type": "code",
   "execution_count": 30,
   "metadata": {
    "collapsed": false
   },
   "outputs": [],
   "source": [
    "removeHeader = merged[merged[\"probability\"] == \"probability\"]"
   ]
  },
  {
   "cell_type": "code",
   "execution_count": 31,
   "metadata": {
    "collapsed": false
   },
   "outputs": [],
   "source": [
    "merged = pd.concat([merged,removeHeader,removeHeader]).drop_duplicates(keep=False)"
   ]
  },
  {
   "cell_type": "code",
   "execution_count": 32,
   "metadata": {
    "collapsed": false
   },
   "outputs": [
    {
     "data": {
      "text/html": [
       "<div>\n",
       "<table border=\"1\" class=\"dataframe\">\n",
       "  <thead>\n",
       "    <tr style=\"text-align: right;\">\n",
       "      <th></th>\n",
       "      <th>Unnamed: 0</th>\n",
       "      <th>detector</th>\n",
       "      <th>flow</th>\n",
       "      <th>occupancy</th>\n",
       "      <th>speed</th>\n",
       "      <th>timestamp</th>\n",
       "      <th>probability</th>\n",
       "    </tr>\n",
       "  </thead>\n",
       "  <tbody>\n",
       "    <tr>\n",
       "      <th>5757620</th>\n",
       "      <td>1679116.0</td>\n",
       "      <td>x</td>\n",
       "      <td>36.0</td>\n",
       "      <td>58.0</td>\n",
       "      <td>39.6</td>\n",
       "      <td>2013-01-25T16:16:43</td>\n",
       "      <td>1.7838383089712305e-09</td>\n",
       "    </tr>\n",
       "    <tr>\n",
       "      <th>5757622</th>\n",
       "      <td>1393050.0</td>\n",
       "      <td>y</td>\n",
       "      <td>37.0</td>\n",
       "      <td>55.0</td>\n",
       "      <td>42.6</td>\n",
       "      <td>2012-06-23T09:15:49</td>\n",
       "      <td>5.946127696570769e-10</td>\n",
       "    </tr>\n",
       "    <tr>\n",
       "      <th>5757623</th>\n",
       "      <td>1233438.0</td>\n",
       "      <td>x</td>\n",
       "      <td>37.0</td>\n",
       "      <td>54.0</td>\n",
       "      <td>43.2</td>\n",
       "      <td>2012-03-02T17:43:13</td>\n",
       "      <td>5.946127696570769e-10</td>\n",
       "    </tr>\n",
       "    <tr>\n",
       "      <th>5757624</th>\n",
       "      <td>2023906.0</td>\n",
       "      <td>y</td>\n",
       "      <td>38.0</td>\n",
       "      <td>59.0</td>\n",
       "      <td>45.6</td>\n",
       "      <td>2013-09-27T21:47:40</td>\n",
       "      <td>5.946127696570769e-10</td>\n",
       "    </tr>\n",
       "    <tr>\n",
       "      <th>5757625</th>\n",
       "      <td>1498179.0</td>\n",
       "      <td>x</td>\n",
       "      <td>36.0</td>\n",
       "      <td>54.0</td>\n",
       "      <td>46.2</td>\n",
       "      <td>2012-09-06T09:34:11</td>\n",
       "      <td>5.946127696570769e-10</td>\n",
       "    </tr>\n",
       "  </tbody>\n",
       "</table>\n",
       "</div>"
      ],
      "text/plain": [
       "         Unnamed: 0 detector  flow occupancy speed            timestamp  \\\n",
       "5757620   1679116.0        x  36.0      58.0  39.6  2013-01-25T16:16:43   \n",
       "5757622   1393050.0        y  37.0      55.0  42.6  2012-06-23T09:15:49   \n",
       "5757623   1233438.0        x  37.0      54.0  43.2  2012-03-02T17:43:13   \n",
       "5757624   2023906.0        y  38.0      59.0  45.6  2013-09-27T21:47:40   \n",
       "5757625   1498179.0        x  36.0      54.0  46.2  2012-09-06T09:34:11   \n",
       "\n",
       "                    probability  \n",
       "5757620  1.7838383089712305e-09  \n",
       "5757622   5.946127696570769e-10  \n",
       "5757623   5.946127696570769e-10  \n",
       "5757624   5.946127696570769e-10  \n",
       "5757625   5.946127696570769e-10  "
      ]
     },
     "execution_count": 32,
     "metadata": {},
     "output_type": "execute_result"
    }
   ],
   "source": [
    "merged.tail()"
   ]
  },
  {
   "cell_type": "code",
   "execution_count": 33,
   "metadata": {
    "collapsed": true
   },
   "outputs": [],
   "source": [
    "removeResult1[\"probability\"] = 0\n",
    "removeResult2[\"probability\"] = 0\n",
    "removeResult3[\"probability\"] = 0\n",
    "#removeResult4[\"probability\"] = 0\n",
    "removeResult5[\"probability\"] = 0\n",
    "removeResult6[\"probability\"] = 0"
   ]
  },
  {
   "cell_type": "code",
   "execution_count": 34,
   "metadata": {
    "collapsed": true
   },
   "outputs": [],
   "source": [
    "merged = merged.append(removeResult1);\n",
    "merged = merged.append(removeResult2);\n",
    "merged = merged.append(removeResult3);\n",
    "#merged = merged.append(removeResult4);\n",
    "merged = merged.append(removeResult5);\n",
    "merged = merged.append(removeResult6);"
   ]
  },
  {
   "cell_type": "code",
   "execution_count": 35,
   "metadata": {
    "collapsed": false
   },
   "outputs": [],
   "source": [
    "# merged = merged.reset_index(drop=True)\n",
    "merged[\"probability\"] = merged[\"probability\"].apply(pd.to_numeric)\n",
    "merged = merged.sort_values([\"probability\"])\n",
    "final_columns = ['flow', 'speed', 'occupancy', 'probability']\n",
    "merged = merged[final_columns]"
   ]
  },
  {
   "cell_type": "code",
   "execution_count": 36,
   "metadata": {
    "collapsed": false
   },
   "outputs": [
    {
     "data": {
      "text/html": [
       "<div>\n",
       "<table border=\"1\" class=\"dataframe\">\n",
       "  <thead>\n",
       "    <tr style=\"text-align: right;\">\n",
       "      <th></th>\n",
       "      <th>flow</th>\n",
       "      <th>speed</th>\n",
       "      <th>occupancy</th>\n",
       "      <th>probability</th>\n",
       "    </tr>\n",
       "  </thead>\n",
       "  <tbody>\n",
       "    <tr>\n",
       "      <th>4120208</th>\n",
       "      <td>16</td>\n",
       "      <td>58.8</td>\n",
       "      <td>11</td>\n",
       "      <td>0.000072</td>\n",
       "    </tr>\n",
       "    <tr>\n",
       "      <th>4120207</th>\n",
       "      <td>19</td>\n",
       "      <td>58.8</td>\n",
       "      <td>8</td>\n",
       "      <td>0.000072</td>\n",
       "    </tr>\n",
       "    <tr>\n",
       "      <th>4120206</th>\n",
       "      <td>18</td>\n",
       "      <td>58.8</td>\n",
       "      <td>8</td>\n",
       "      <td>0.000072</td>\n",
       "    </tr>\n",
       "    <tr>\n",
       "      <th>4120218</th>\n",
       "      <td>18</td>\n",
       "      <td>58.8</td>\n",
       "      <td>9</td>\n",
       "      <td>0.000072</td>\n",
       "    </tr>\n",
       "    <tr>\n",
       "      <th>4075295</th>\n",
       "      <td>17</td>\n",
       "      <td>58.2</td>\n",
       "      <td>7</td>\n",
       "      <td>0.000072</td>\n",
       "    </tr>\n",
       "  </tbody>\n",
       "</table>\n",
       "</div>"
      ],
      "text/plain": [
       "        flow speed occupancy  probability\n",
       "4120208   16  58.8        11     0.000072\n",
       "4120207   19  58.8         8     0.000072\n",
       "4120206   18  58.8         8     0.000072\n",
       "4120218   18  58.8         9     0.000072\n",
       "4075295   17  58.2         7     0.000072"
      ]
     },
     "execution_count": 36,
     "metadata": {},
     "output_type": "execute_result"
    }
   ],
   "source": [
    "merged.tail()"
   ]
  },
  {
   "cell_type": "code",
   "execution_count": 37,
   "metadata": {
    "collapsed": false
   },
   "outputs": [],
   "source": [
    "final_result = pd.DataFrame(columns = [\"flow\",\"speed\",\"occupancy\", \"probability\"])\n",
    "for i in range(0,len(merged),100):\n",
    "    final_result = final_result.append(merged.iloc[[i]])"
   ]
  },
  {
   "cell_type": "code",
   "execution_count": 38,
   "metadata": {
    "collapsed": true
   },
   "outputs": [],
   "source": [
    "final_result.to_csv(\"3232_2.txt\",sep=\"\\t\", index=False)"
   ]
  },
  {
   "cell_type": "code",
   "execution_count": 39,
   "metadata": {
    "collapsed": false
   },
   "outputs": [
    {
     "data": {
      "text/html": [
       "<div>\n",
       "<table border=\"1\" class=\"dataframe\">\n",
       "  <thead>\n",
       "    <tr style=\"text-align: right;\">\n",
       "      <th></th>\n",
       "      <th>flow</th>\n",
       "      <th>speed</th>\n",
       "      <th>occupancy</th>\n",
       "      <th>probability</th>\n",
       "    </tr>\n",
       "  </thead>\n",
       "  <tbody>\n",
       "    <tr>\n",
       "      <th>2799101</th>\n",
       "      <td>NaN</td>\n",
       "      <td>NaN</td>\n",
       "      <td>NaN</td>\n",
       "      <td>0.0</td>\n",
       "    </tr>\n",
       "    <tr>\n",
       "      <th>970178</th>\n",
       "      <td>0</td>\n",
       "      <td>53.4</td>\n",
       "      <td>0</td>\n",
       "      <td>0.0</td>\n",
       "    </tr>\n",
       "    <tr>\n",
       "      <th>970329</th>\n",
       "      <td>0</td>\n",
       "      <td>53.4</td>\n",
       "      <td>0</td>\n",
       "      <td>0.0</td>\n",
       "    </tr>\n",
       "    <tr>\n",
       "      <th>970283</th>\n",
       "      <td>0</td>\n",
       "      <td>53.4</td>\n",
       "      <td>0</td>\n",
       "      <td>0.0</td>\n",
       "    </tr>\n",
       "    <tr>\n",
       "      <th>970027</th>\n",
       "      <td>0</td>\n",
       "      <td>45.6</td>\n",
       "      <td>0</td>\n",
       "      <td>0.0</td>\n",
       "    </tr>\n",
       "  </tbody>\n",
       "</table>\n",
       "</div>"
      ],
      "text/plain": [
       "        flow speed occupancy  probability\n",
       "2799101  NaN   NaN       NaN          0.0\n",
       "970178     0  53.4         0          0.0\n",
       "970329     0  53.4         0          0.0\n",
       "970283     0  53.4         0          0.0\n",
       "970027     0  45.6         0          0.0"
      ]
     },
     "execution_count": 39,
     "metadata": {},
     "output_type": "execute_result"
    }
   ],
   "source": [
    "final_result.head()"
   ]
  },
  {
   "cell_type": "code",
   "execution_count": 41,
   "metadata": {
    "collapsed": true
   },
   "outputs": [],
   "source": [
    "low = 0;\n",
    "high1 = int(len(result)/20)\n",
    "BinNum = 20;\n",
    "length = high1 - low\n",
    "flowBins = np.zeros(shape=(20,high1), dtype = object)\n",
    "for i in range(0, 20, 1):\n",
    "    high = low + high1\n",
    "    flowBins[i] = [result[low : high]]\n",
    "    low = high"
   ]
  },
  {
   "cell_type": "code",
   "execution_count": 42,
   "metadata": {
    "collapsed": true
   },
   "outputs": [],
   "source": [
    "import numpy as np\n",
    "flow_occupancy_bin = np.ndarray(shape=(20,20), dtype = object)\n",
    "y = 1;\n",
    "low = 0;\n",
    "for i in range(0,20,1):\n",
    "    data = pd.DataFrame(flowBins[i].reshape((-1,length))[0][0]);\n",
    "    data = data.sort_values([\"occupancy\"])\n",
    "    high1 = int(len(flowBins[1])/20)\n",
    "    low = 0\n",
    "    for j in range(0, 20, 1):\n",
    "        high = low + high1\n",
    "        flow_occupancy_bin[i][j] = [data[low : high]]\n",
    "        low = high"
   ]
  },
  {
   "cell_type": "code",
   "execution_count": 43,
   "metadata": {
    "collapsed": true
   },
   "outputs": [],
   "source": [
    "import numpy as np\n",
    "flow_occupancy_speed_bin = np.ndarray(shape=(20,20,20), dtype = object)\n",
    "for i in range(0,20,1):\n",
    "    for k in range(0,20,1):\n",
    "        data = flow_occupancy_bin[i][k][0];\n",
    "        data = data.sort_values([\"speed\"])\n",
    "        low = 0;\n",
    "        high1 = int(len(flow_occupancy_bin[0][0][0])/20)\n",
    "        for j in range(0, 20, 1):\n",
    "            high = low + high1\n",
    "            flow_occupancy_speed_bin[i][k][j] = [data[low : high]]\n",
    "            low = high"
   ]
  },
  {
   "cell_type": "code",
   "execution_count": 44,
   "metadata": {
    "collapsed": true
   },
   "outputs": [],
   "source": [
    "!mkdir output"
   ]
  },
  {
   "cell_type": "code",
   "execution_count": 45,
   "metadata": {
    "collapsed": false
   },
   "outputs": [
    {
     "name": "stderr",
     "output_type": "stream",
     "text": [
      "/Users/abhisheknigam/anaconda/lib/python3.5/site-packages/ipykernel/__main__.py:13: SettingWithCopyWarning: \n",
      "A value is trying to be set on a copy of a slice from a DataFrame.\n",
      "Try using .loc[row_indexer,col_indexer] = value instead\n",
      "\n",
      "See the caveats in the documentation: http://pandas.pydata.org/pandas-docs/stable/indexing.html#indexing-view-versus-copy\n"
     ]
    }
   ],
   "source": [
    "vectors = len(result)\n",
    "for i in range(1,20,1):\n",
    "    for j in range(1,20,1):\n",
    "        for k in range(1,20,1):\n",
    "            prob_data = flow_occupancy_speed_bin[i][j][k][0]\n",
    "            currVectors = flow_occupancy_speed_bin[i][j][k][0].shape[0]\n",
    "            flow_difference = prob_data.flow.max() - prob_data.flow.min()\n",
    "            occupancy_difference = prob_data.occupancy.max() - prob_data.occupancy.min()\n",
    "            speed_difference = prob_data.speed.max() - prob_data.speed.min()\n",
    "            volume = flow_difference * occupancy_difference * speed_difference\n",
    "            if(volume == 0): volume =1\n",
    "            probability = currVectors/float(vectors * volume)\n",
    "            prob_data[\"probability\"] = probability\n",
    "            prob_data.to_csv(\"output/out\" + str(i) + '-' + str(j) + '-' + str(k) + \".csv\",sep=\"\\t\")  "
   ]
  },
  {
   "cell_type": "code",
   "execution_count": 46,
   "metadata": {
    "collapsed": true
   },
   "outputs": [],
   "source": [
    "! cat output/*.csv > merged-1.csv"
   ]
  },
  {
   "cell_type": "code",
   "execution_count": 47,
   "metadata": {
    "collapsed": true
   },
   "outputs": [],
   "source": [
    "!rm -rf output/"
   ]
  },
  {
   "cell_type": "code",
   "execution_count": 48,
   "metadata": {
    "collapsed": true
   },
   "outputs": [],
   "source": [
    "merged = pd.read_csv(\"merged-1.csv\", na_values=['-'], delimiter=\"\\t\", error_bad_lines=False)"
   ]
  },
  {
   "cell_type": "code",
   "execution_count": 49,
   "metadata": {
    "collapsed": true
   },
   "outputs": [],
   "source": [
    "removeHeader = merged[merged[\"probability\"] == \"probability\"]\n",
    "merged = pd.concat([merged,removeHeader,removeHeader]).drop_duplicates(keep=False)"
   ]
  },
  {
   "cell_type": "code",
   "execution_count": 50,
   "metadata": {
    "collapsed": true
   },
   "outputs": [],
   "source": [
    "removeResult1[\"probability\"] = 0\n",
    "removeResult2[\"probability\"] = 0\n",
    "removeResult3[\"probability\"] = 0\n",
    "#removeResult4[\"probability\"] = 0\n",
    "removeResult5[\"probability\"] = 0\n",
    "removeResult6[\"probability\"] = 0"
   ]
  },
  {
   "cell_type": "code",
   "execution_count": 51,
   "metadata": {
    "collapsed": true
   },
   "outputs": [],
   "source": [
    "merged = merged.append(removeResult1);\n",
    "merged = merged.append(removeResult2);\n",
    "merged = merged.append(removeResult3);\n",
    "#merged = merged.append(removeResult4);\n",
    "merged = merged.append(removeResult5);\n",
    "merged = merged.append(removeResult6);"
   ]
  },
  {
   "cell_type": "code",
   "execution_count": 52,
   "metadata": {
    "collapsed": false
   },
   "outputs": [],
   "source": [
    "merged[\"probability\"] = merged[\"probability\"].apply(pd.to_numeric)\n",
    "merged = merged.sort_values([\"probability\"])\n",
    "final_columns = ['flow', 'speed', 'occupancy', 'probability']\n",
    "merged = merged[final_columns]"
   ]
  },
  {
   "cell_type": "code",
   "execution_count": 53,
   "metadata": {
    "collapsed": false
   },
   "outputs": [
    {
     "data": {
      "text/html": [
       "<div>\n",
       "<table border=\"1\" class=\"dataframe\">\n",
       "  <thead>\n",
       "    <tr style=\"text-align: right;\">\n",
       "      <th></th>\n",
       "      <th>flow</th>\n",
       "      <th>speed</th>\n",
       "      <th>occupancy</th>\n",
       "      <th>probability</th>\n",
       "    </tr>\n",
       "  </thead>\n",
       "  <tbody>\n",
       "    <tr>\n",
       "      <th>1165741</th>\n",
       "      <td>16.0</td>\n",
       "      <td>60.0</td>\n",
       "      <td>8.0</td>\n",
       "      <td>0.001249</td>\n",
       "    </tr>\n",
       "    <tr>\n",
       "      <th>1165742</th>\n",
       "      <td>16.0</td>\n",
       "      <td>60.0</td>\n",
       "      <td>8.0</td>\n",
       "      <td>0.001249</td>\n",
       "    </tr>\n",
       "    <tr>\n",
       "      <th>1165743</th>\n",
       "      <td>16.0</td>\n",
       "      <td>60.0</td>\n",
       "      <td>9.0</td>\n",
       "      <td>0.001249</td>\n",
       "    </tr>\n",
       "    <tr>\n",
       "      <th>1165723</th>\n",
       "      <td>16.0</td>\n",
       "      <td>60.0</td>\n",
       "      <td>8.0</td>\n",
       "      <td>0.001249</td>\n",
       "    </tr>\n",
       "    <tr>\n",
       "      <th>1165679</th>\n",
       "      <td>16.0</td>\n",
       "      <td>60.0</td>\n",
       "      <td>8.0</td>\n",
       "      <td>0.001249</td>\n",
       "    </tr>\n",
       "  </tbody>\n",
       "</table>\n",
       "</div>"
      ],
      "text/plain": [
       "         flow speed occupancy  probability\n",
       "1165741  16.0  60.0       8.0     0.001249\n",
       "1165742  16.0  60.0       8.0     0.001249\n",
       "1165743  16.0  60.0       9.0     0.001249\n",
       "1165723  16.0  60.0       8.0     0.001249\n",
       "1165679  16.0  60.0       8.0     0.001249"
      ]
     },
     "execution_count": 53,
     "metadata": {},
     "output_type": "execute_result"
    }
   ],
   "source": [
    "merged.tail()"
   ]
  },
  {
   "cell_type": "code",
   "execution_count": 54,
   "metadata": {
    "collapsed": false
   },
   "outputs": [],
   "source": [
    "final_result = pd.DataFrame(columns = [\"flow\",\"speed\",\"occupancy\", \"probability\"])\n",
    "for i in range(0,len(merged),100):\n",
    "    final_result = final_result.append(merged.iloc[[i]])"
   ]
  },
  {
   "cell_type": "code",
   "execution_count": 55,
   "metadata": {
    "collapsed": true
   },
   "outputs": [],
   "source": [
    "final_result.to_csv(\"3232_2.txt\",sep=\"\\t\", index=False)"
   ]
  },
  {
   "cell_type": "code",
   "execution_count": null,
   "metadata": {
    "collapsed": true
   },
   "outputs": [],
   "source": []
  }
 ],
 "metadata": {
  "anaconda-cloud": {},
  "kernelspec": {
   "display_name": "Python [Root]",
   "language": "python",
   "name": "Python [Root]"
  },
  "language_info": {
   "codemirror_mode": {
    "name": "ipython",
    "version": 3
   },
   "file_extension": ".py",
   "mimetype": "text/x-python",
   "name": "python",
   "nbconvert_exporter": "python",
   "pygments_lexer": "ipython3",
   "version": "3.5.2"
  }
 },
 "nbformat": 4,
 "nbformat_minor": 0
}
