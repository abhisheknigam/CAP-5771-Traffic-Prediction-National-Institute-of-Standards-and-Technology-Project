{
 "cells": [
  {
   "cell_type": "code",
   "execution_count": 1,
   "metadata": {
    "collapsed": true
   },
   "outputs": [],
   "source": [
    "import pylab\n",
    "import pandas as pd\n",
    "import numpy as np\n",
    "import matplotlib.pyplot as plt\n",
    "%matplotlib inline"
   ]
  },
  {
   "cell_type": "code",
   "execution_count": 2,
   "metadata": {
    "collapsed": true
   },
   "outputs": [],
   "source": [
    "flow = pd.read_csv(\"flow.tsv\", na_values=['-'], delimiter=\"\\t\", error_bad_lines=False)\n",
    "occupancy = pd.read_csv(\"occupancy.tsv\", na_values=['-'], delimiter=\"\\t\", error_bad_lines=False)\n",
    "speed = pd.read_csv(\"speed.tsv\", na_values=['-'], delimiter=\"\\t\", error_bad_lines=False)\n",
    "timestamp = pd.read_csv(\"timestamp.tsv\", na_values=['-'], delimiter=\"\\t\", error_bad_lines=False)"
   ]
  },
  {
   "cell_type": "code",
   "execution_count": 3,
   "metadata": {
    "collapsed": false
   },
   "outputs": [
    {
     "data": {
      "text/html": [
       "<div>\n",
       "<table border=\"1\" class=\"dataframe\">\n",
       "  <thead>\n",
       "    <tr style=\"text-align: right;\">\n",
       "      <th></th>\n",
       "      <th>36</th>\n",
       "      <th>16</th>\n",
       "      <th>28</th>\n",
       "      <th>47</th>\n",
       "    </tr>\n",
       "  </thead>\n",
       "  <tbody>\n",
       "    <tr>\n",
       "      <th>0</th>\n",
       "      <td>35.0</td>\n",
       "      <td>15.0</td>\n",
       "      <td>29.0</td>\n",
       "      <td>35.0</td>\n",
       "    </tr>\n",
       "    <tr>\n",
       "      <th>1</th>\n",
       "      <td>29.0</td>\n",
       "      <td>23.0</td>\n",
       "      <td>28.0</td>\n",
       "      <td>43.0</td>\n",
       "    </tr>\n",
       "    <tr>\n",
       "      <th>2</th>\n",
       "      <td>25.0</td>\n",
       "      <td>5.0</td>\n",
       "      <td>24.0</td>\n",
       "      <td>26.0</td>\n",
       "    </tr>\n",
       "    <tr>\n",
       "      <th>3</th>\n",
       "      <td>31.0</td>\n",
       "      <td>15.0</td>\n",
       "      <td>25.0</td>\n",
       "      <td>37.0</td>\n",
       "    </tr>\n",
       "    <tr>\n",
       "      <th>4</th>\n",
       "      <td>31.0</td>\n",
       "      <td>16.0</td>\n",
       "      <td>27.0</td>\n",
       "      <td>40.0</td>\n",
       "    </tr>\n",
       "  </tbody>\n",
       "</table>\n",
       "</div>"
      ],
      "text/plain": [
       "     36    16    28    47\n",
       "0  35.0  15.0  29.0  35.0\n",
       "1  29.0  23.0  28.0  43.0\n",
       "2  25.0   5.0  24.0  26.0\n",
       "3  31.0  15.0  25.0  37.0\n",
       "4  31.0  16.0  27.0  40.0"
      ]
     },
     "execution_count": 3,
     "metadata": {},
     "output_type": "execute_result"
    }
   ],
   "source": [
    "flow.head()"
   ]
  },
  {
   "cell_type": "code",
   "execution_count": 4,
   "metadata": {
    "collapsed": false
   },
   "outputs": [],
   "source": [
    "df = pd.concat([flow,occupancy,speed,timestamp], axis=1)"
   ]
  },
  {
   "cell_type": "code",
   "execution_count": 6,
   "metadata": {
    "collapsed": false
   },
   "outputs": [
    {
     "data": {
      "text/html": [
       "<div>\n",
       "<table border=\"1\" class=\"dataframe\">\n",
       "  <thead>\n",
       "    <tr style=\"text-align: right;\">\n",
       "      <th></th>\n",
       "      <th>flow1</th>\n",
       "      <th>flow2</th>\n",
       "      <th>flow3</th>\n",
       "      <th>flow4</th>\n",
       "      <th>occupancy1</th>\n",
       "      <th>occupancy2</th>\n",
       "      <th>occupancy3</th>\n",
       "      <th>occupancy4</th>\n",
       "      <th>speed1</th>\n",
       "      <th>speed2</th>\n",
       "      <th>speed3</th>\n",
       "      <th>speed4</th>\n",
       "      <th>timestamp</th>\n",
       "    </tr>\n",
       "  </thead>\n",
       "  <tbody>\n",
       "    <tr>\n",
       "      <th>0</th>\n",
       "      <td>35.0</td>\n",
       "      <td>15.0</td>\n",
       "      <td>29.0</td>\n",
       "      <td>35.0</td>\n",
       "      <td>23.0</td>\n",
       "      <td>5.0</td>\n",
       "      <td>20.0</td>\n",
       "      <td>24.0</td>\n",
       "      <td>52.2</td>\n",
       "      <td>50.6</td>\n",
       "      <td>49.8</td>\n",
       "      <td>48.0</td>\n",
       "      <td>2009-08-19T15:06:15</td>\n",
       "    </tr>\n",
       "    <tr>\n",
       "      <th>1</th>\n",
       "      <td>29.0</td>\n",
       "      <td>23.0</td>\n",
       "      <td>28.0</td>\n",
       "      <td>43.0</td>\n",
       "      <td>24.0</td>\n",
       "      <td>8.0</td>\n",
       "      <td>24.0</td>\n",
       "      <td>27.0</td>\n",
       "      <td>61.2</td>\n",
       "      <td>55.2</td>\n",
       "      <td>48.0</td>\n",
       "      <td>54.0</td>\n",
       "      <td>2009-08-19T15:07:14</td>\n",
       "    </tr>\n",
       "    <tr>\n",
       "      <th>2</th>\n",
       "      <td>25.0</td>\n",
       "      <td>5.0</td>\n",
       "      <td>24.0</td>\n",
       "      <td>26.0</td>\n",
       "      <td>19.0</td>\n",
       "      <td>1.0</td>\n",
       "      <td>19.0</td>\n",
       "      <td>15.0</td>\n",
       "      <td>57.6</td>\n",
       "      <td>55.2</td>\n",
       "      <td>54.6</td>\n",
       "      <td>51.0</td>\n",
       "      <td>2009-08-19T15:08:14</td>\n",
       "    </tr>\n",
       "    <tr>\n",
       "      <th>3</th>\n",
       "      <td>31.0</td>\n",
       "      <td>15.0</td>\n",
       "      <td>25.0</td>\n",
       "      <td>37.0</td>\n",
       "      <td>26.0</td>\n",
       "      <td>5.0</td>\n",
       "      <td>18.0</td>\n",
       "      <td>27.0</td>\n",
       "      <td>49.2</td>\n",
       "      <td>60.0</td>\n",
       "      <td>54.0</td>\n",
       "      <td>49.2</td>\n",
       "      <td>2009-08-19T15:09:14</td>\n",
       "    </tr>\n",
       "    <tr>\n",
       "      <th>4</th>\n",
       "      <td>31.0</td>\n",
       "      <td>16.0</td>\n",
       "      <td>27.0</td>\n",
       "      <td>40.0</td>\n",
       "      <td>22.0</td>\n",
       "      <td>5.0</td>\n",
       "      <td>26.0</td>\n",
       "      <td>24.0</td>\n",
       "      <td>46.2</td>\n",
       "      <td>64.2</td>\n",
       "      <td>42.6</td>\n",
       "      <td>48.0</td>\n",
       "      <td>2009-08-19T15:10:15</td>\n",
       "    </tr>\n",
       "  </tbody>\n",
       "</table>\n",
       "</div>"
      ],
      "text/plain": [
       "   flow1  flow2  flow3  flow4  occupancy1  occupancy2  occupancy3  occupancy4  \\\n",
       "0   35.0   15.0   29.0   35.0        23.0         5.0        20.0        24.0   \n",
       "1   29.0   23.0   28.0   43.0        24.0         8.0        24.0        27.0   \n",
       "2   25.0    5.0   24.0   26.0        19.0         1.0        19.0        15.0   \n",
       "3   31.0   15.0   25.0   37.0        26.0         5.0        18.0        27.0   \n",
       "4   31.0   16.0   27.0   40.0        22.0         5.0        26.0        24.0   \n",
       "\n",
       "   speed1  speed2  speed3  speed4            timestamp  \n",
       "0    52.2    50.6    49.8    48.0  2009-08-19T15:06:15  \n",
       "1    61.2    55.2    48.0    54.0  2009-08-19T15:07:14  \n",
       "2    57.6    55.2    54.6    51.0  2009-08-19T15:08:14  \n",
       "3    49.2    60.0    54.0    49.2  2009-08-19T15:09:14  \n",
       "4    46.2    64.2    42.6    48.0  2009-08-19T15:10:15  "
      ]
     },
     "execution_count": 6,
     "metadata": {},
     "output_type": "execute_result"
    }
   ],
   "source": [
    "df.columns = ['flow1','flow2','flow3','flow4','occupancy1','occupancy2', 'occupancy3','occupancy4','speed1','speed2', 'speed3','speed4','timestamp']\n",
    "df.head()"
   ]
  },
  {
   "cell_type": "code",
   "execution_count": 7,
   "metadata": {
    "collapsed": false
   },
   "outputs": [],
   "source": [
    "df1 =  pd.DataFrame({\"flow\" : df.flow1, \"occupancy\" : df.occupancy1,\"speed\" : df.speed1,\"timestamp\" : df.timestamp,\"detector\" : \"x\"})\n",
    "df2 = pd.DataFrame({\"flow\" : df.flow2, \"occupancy\" : df.occupancy2,\"speed\" : df.speed2,\"timestamp\" : df.timestamp,\"detector\" : \"y\"})\n",
    "df3 = pd.DataFrame({\"flow\" : df.flow3, \"occupancy\" : df.occupancy3,\"speed\" : df.speed3,\"timestamp\" : df.timestamp,\"detector\" : \"z\"})\n",
    "df4 = pd.DataFrame({\"flow\" : df.flow4, \"occupancy\" : df.occupancy4,\"speed\" : df.speed4,\"timestamp\" : df.timestamp,\"detector\" : \"x1\"})"
   ]
  },
  {
   "cell_type": "code",
   "execution_count": 8,
   "metadata": {
    "collapsed": false
   },
   "outputs": [],
   "source": [
    "frames = [df1, df2, df3, df4]\n",
    "result = pd.concat(frames)"
   ]
  },
  {
   "cell_type": "code",
   "execution_count": 9,
   "metadata": {
    "collapsed": false
   },
   "outputs": [],
   "source": [
    "result = result.sort_values(\"timestamp\")"
   ]
  },
  {
   "cell_type": "code",
   "execution_count": 10,
   "metadata": {
    "collapsed": false
   },
   "outputs": [
    {
     "data": {
      "text/plain": [
       "12293536"
      ]
     },
     "execution_count": 10,
     "metadata": {},
     "output_type": "execute_result"
    }
   ],
   "source": [
    "len(result)"
   ]
  },
  {
   "cell_type": "code",
   "execution_count": 11,
   "metadata": {
    "collapsed": false
   },
   "outputs": [
    {
     "data": {
      "text/plain": [
       "[<matplotlib.lines.Line2D at 0x104823c18>]"
      ]
     },
     "execution_count": 11,
     "metadata": {},
     "output_type": "execute_result"
    },
    {
     "data": {
      "image/png": "[encoded data removed]",
      "text/plain": [
       "<matplotlib.figure.Figure at 0x115951d68>"
      ]
     },
     "metadata": {},
     "output_type": "display_data"
    }
   ],
   "source": [
    "# Finding outlier values for Occoupancy\n",
    "val = np.sort(result[\"occupancy\"].unique())\n",
    "plt.plot(val)"
   ]
  },
  {
   "cell_type": "code",
   "execution_count": 13,
   "metadata": {
    "collapsed": false
   },
   "outputs": [
    {
     "name": "stdout",
     "output_type": "stream",
     "text": [
      "[  0.00000000e+00   1.00000000e+00   2.00000000e+00   3.00000000e+00\n",
      "   4.00000000e+00   5.00000000e+00   6.00000000e+00   7.00000000e+00\n",
      "   8.00000000e+00   9.00000000e+00   1.00000000e+01   1.10000000e+01\n",
      "   1.20000000e+01   1.30000000e+01   1.40000000e+01   1.50000000e+01\n",
      "   1.60000000e+01   1.70000000e+01   1.80000000e+01   1.90000000e+01\n",
      "   2.00000000e+01   2.10000000e+01   2.20000000e+01   2.30000000e+01\n",
      "   2.40000000e+01   2.50000000e+01   2.60000000e+01   2.70000000e+01\n",
      "   2.80000000e+01   2.90000000e+01   3.00000000e+01   3.10000000e+01\n",
      "   3.20000000e+01   3.30000000e+01   3.40000000e+01   3.50000000e+01\n",
      "   3.60000000e+01   3.70000000e+01   3.80000000e+01   3.90000000e+01\n",
      "   4.00000000e+01   4.20000000e+01   4.30000000e+01   4.40000000e+01\n",
      "   4.50000000e+01   4.60000000e+01   4.80000000e+01   4.90000000e+01\n",
      "   5.00000000e+01   5.10000000e+01   5.20000000e+01   5.40000000e+01\n",
      "   5.50000000e+01   5.60000000e+01   5.70000000e+01   5.80000000e+01\n",
      "   6.00000000e+01   6.10000000e+01   6.20000000e+01   6.30000000e+01\n",
      "   6.40000000e+01   6.50000000e+01   6.70000000e+01   6.80000000e+01\n",
      "   6.90000000e+01   7.00000000e+01   7.10000000e+01   7.30000000e+01\n",
      "   7.40000000e+01   7.50000000e+01   7.60000000e+01   7.90000000e+01\n",
      "   8.10000000e+01   8.30000000e+01   8.60000000e+01   8.80000000e+01\n",
      "   9.00000000e+01   9.30000000e+01   9.50000000e+01   9.80000000e+01\n",
      "   1.00000000e+02   8.20000000e+02   1.30600000e+03   1.92000000e+03\n",
      "   1.97100000e+03   2.02200000e+03   2.56000000e+03   2.68800000e+03\n",
      "   3.22600000e+03   3.37900000e+03   3.73800000e+03   3.84000000e+03\n",
      "   4.07000000e+03   4.19800000e+03   4.45400000e+03   4.94100000e+03\n",
      "   6.04200000e+03   6.29800000e+03              nan]\n"
     ]
    }
   ],
   "source": [
    "print (np.sort(result[\"occupancy\"].unique()))"
   ]
  },
  {
   "cell_type": "code",
   "execution_count": 14,
   "metadata": {
    "collapsed": false
   },
   "outputs": [
    {
     "data": {
      "text/plain": [
       "[<matplotlib.lines.Line2D at 0x1159fe128>]"
      ]
     },
     "execution_count": 14,
     "metadata": {},
     "output_type": "execute_result"
    },
    {
     "data": {
      "image/png": "[encoded data removed]",
      "text/plain": [
       "<matplotlib.figure.Figure at 0x115951be0>"
      ]
     },
     "metadata": {},
     "output_type": "display_data"
    }
   ],
   "source": [
    "# Outlier speed visualization\n",
    "plt.figure(figsize=(10,10))\n",
    "plt.plot(np.sort(result[\"occupancy\"].unique()))"
   ]
  },
  {
   "cell_type": "code",
   "execution_count": 16,
   "metadata": {
    "collapsed": false
   },
   "outputs": [],
   "source": [
    "removeResult1 = result[(result['speed'] < 0) | (result['flow'] < 0)]\n",
    "removeResult2 = result[(result['flow'] == 0) & (result['speed'] > 0)]\n",
    "jam_occupancy_threshold = 100\n",
    "removeResult3 = result[((result['speed'] == 0) & \n",
    "                            (result['flow'] == 0) & \n",
    "                            (result['occupancy'] != 0) & \n",
    "                            (result['occupancy'] < jam_occupancy_threshold))]\n",
    "# skewed data\n",
    "#removeResult4 = result[(result['speed'] == 0) & (result['flow'] == 0) & (result[\"occupancy\"] == 0)]\n",
    "removeResult5 = result[(result['speed'] == 0) & (result['flow'] != 0) & (result[\"occupancy\"] == 0)]\n",
    "removeResult6 = result[(pd.isnull(result['speed'])) | (pd.isnull(result['occupancy'])) | (pd.isnull(result['flow']))]"
   ]
  },
  {
   "cell_type": "code",
   "execution_count": 17,
   "metadata": {
    "collapsed": false
   },
   "outputs": [
    {
     "data": {
      "text/plain": [
       "12293536"
      ]
     },
     "execution_count": 17,
     "metadata": {},
     "output_type": "execute_result"
    }
   ],
   "source": [
    "len(result)"
   ]
  },
  {
   "cell_type": "code",
   "execution_count": 18,
   "metadata": {
    "collapsed": false
   },
   "outputs": [],
   "source": [
    "result = pd.concat([result,removeResult1,removeResult1]).drop_duplicates(keep=False)\n",
    "result = pd.concat([result,removeResult2,removeResult2]).drop_duplicates(keep=False)\n",
    "result = pd.concat([result,removeResult3,removeResult3]).drop_duplicates(keep=False)\n",
    "#result = pd.concat([result,removeResult4,removeResult4]).drop_duplicates(keep=False)\n",
    "result = pd.concat([result,removeResult5,removeResult5]).drop_duplicates(keep=False)\n",
    "result = pd.concat([result,removeResult6,removeResult6]).drop_duplicates(keep=False)"
   ]
  },
  {
   "cell_type": "code",
   "execution_count": 19,
   "metadata": {
    "collapsed": false
   },
   "outputs": [],
   "source": [
    "result = result.sort_values([\"flow\"])"
   ]
  },
  {
   "cell_type": "code",
   "execution_count": 20,
   "metadata": {
    "collapsed": true
   },
   "outputs": [],
   "source": [
    "def sampleData(data, threshold, columnName):\n",
    "    flowBins = np.zeros(shape=(20,), dtype = object)\n",
    "    data = data.sort_values(columnName)\n",
    "    difference = threshold\n",
    "    high  = difference\n",
    "    low = 0;\n",
    "    for i in range(0, 20, 1):\n",
    "        b = data[data[columnName] < high]\n",
    "        b = b[b[columnName] >= low]\n",
    "        flowBins[i] = b\n",
    "        low = high\n",
    "        high = high + difference\n",
    "    return flowBins"
   ]
  },
  {
   "cell_type": "code",
   "execution_count": 22,
   "metadata": {
    "collapsed": false
   },
   "outputs": [
    {
     "name": "stdout",
     "output_type": "stream",
     "text": [
      "11929404\n"
     ]
    }
   ],
   "source": [
    "print (len(result))"
   ]
  },
  {
   "cell_type": "code",
   "execution_count": 23,
   "metadata": {
    "collapsed": false
   },
   "outputs": [],
   "source": [
    "flowBins = np.zeros(shape=(20,), dtype = object)\n",
    "flowBins = sampleData(result, 13 ,\"flow\")    "
   ]
  },
  {
   "cell_type": "code",
   "execution_count": 24,
   "metadata": {
    "collapsed": false
   },
   "outputs": [],
   "source": [
    "\n",
    "flow_occupancy_bin = np.ndarray(shape=(20,20), dtype = object)\n",
    "for i in range(0,20,1):\n",
    "    data = pd.DataFrame(flowBins[i])\n",
    "    flow_occupancy_bin[i] = sampleData(data, 6 ,\"occupancy\") "
   ]
  },
  {
   "cell_type": "code",
   "execution_count": 25,
   "metadata": {
    "collapsed": false
   },
   "outputs": [],
   "source": [
    "flow_occupancy_speed_bin = np.ndarray(shape=(20,20,20), dtype = object)\n",
    "for i in range(0,20,1):\n",
    "    for j in range(0,20,1):\n",
    "        data = flow_occupancy_bin[i][j];\n",
    "        flow_occupancy_speed_bin[i][j] = sampleData(data, 11 ,\"speed\") "
   ]
  },
  {
   "cell_type": "code",
   "execution_count": 26,
   "metadata": {
    "collapsed": true
   },
   "outputs": [],
   "source": [
    "!mkdir output"
   ]
  },
  {
   "cell_type": "code",
   "execution_count": 27,
   "metadata": {
    "collapsed": false
   },
   "outputs": [],
   "source": [
    "final_result = pd.DataFrame(columns = [\"detector\",\"flow\",\"occupancy\",\"speed\",\"timestamp\", \"probability\"])\n",
    "total_points = len(result)\n",
    "for i in range(0,20,1):\n",
    "    for j in range(0,20,1):\n",
    "        for k in range(0,20,1):\n",
    "            prob_data = flow_occupancy_speed_bin[i][j][k]\n",
    "            points_inside_box = prob_data.shape[0]\n",
    "            f = prob_data.flow.max() - prob_data.flow.min()\n",
    "            o = prob_data.occupancy.max() - prob_data.occupancy.min()\n",
    "            s = prob_data.speed.max() - prob_data.speed.min()\n",
    "            volume = 858\n",
    "            if(volume == 0): volume =1\n",
    "            probability = points_inside_box/float(total_points * volume)\n",
    "            prob_data[\"probability\"] = probability\n",
    "            prob_data.to_csv(\"output/out\" + str(i) + '-' + str(j) + '-' + str(k) + \".csv\",sep=\"\\t\")"
   ]
  },
  {
   "cell_type": "code",
   "execution_count": 28,
   "metadata": {
    "collapsed": false
   },
   "outputs": [],
   "source": [
    "! cat output/*.csv > merged.csv"
   ]
  },
  {
   "cell_type": "code",
   "execution_count": 29,
   "metadata": {
    "collapsed": false
   },
   "outputs": [],
   "source": [
    "!rm -rf output/"
   ]
  },
  {
   "cell_type": "code",
   "execution_count": 30,
   "metadata": {
    "collapsed": false
   },
   "outputs": [
    {
     "name": "stderr",
     "output_type": "stream",
     "text": [
      "/Users/abhisheknigam/anaconda/lib/python3.5/site-packages/IPython/core/interactiveshell.py:2723: DtypeWarning: Columns (2,3,4,6) have mixed types. Specify dtype option on import or set low_memory=False.\n",
      "  interactivity=interactivity, compiler=compiler, result=result)\n"
     ]
    }
   ],
   "source": [
    "merged = pd.read_csv(\"merged.csv\", na_values=['-'], delimiter=\"\\t\", error_bad_lines=False)"
   ]
  },
  {
   "cell_type": "code",
   "execution_count": 31,
   "metadata": {
    "collapsed": false
   },
   "outputs": [],
   "source": [
    "removeHeader = merged[merged[\"probability\"] == \"probability\"]"
   ]
  },
  {
   "cell_type": "code",
   "execution_count": 32,
   "metadata": {
    "collapsed": false
   },
   "outputs": [],
   "source": [
    "merged = pd.concat([merged,removeHeader,removeHeader]).drop_duplicates(keep=False)"
   ]
  },
  {
   "cell_type": "code",
   "execution_count": 33,
   "metadata": {
    "collapsed": false
   },
   "outputs": [],
   "source": [
    "removeResult1[\"probability\"] = 0\n",
    "removeResult2[\"probability\"] = 0\n",
    "removeResult3[\"probability\"] = 0\n",
    "#removeResult4[\"probability\"] = 0\n",
    "removeResult5[\"probability\"] = 0\n",
    "removeResult6[\"probability\"] = 0"
   ]
  },
  {
   "cell_type": "code",
   "execution_count": 34,
   "metadata": {
    "collapsed": true
   },
   "outputs": [],
   "source": [
    "merged = merged.append(removeResult1);\n",
    "merged = merged.append(removeResult2);\n",
    "merged = merged.append(removeResult3);\n",
    "#merged = merged.append(removeResult4);\n",
    "merged = merged.append(removeResult5);\n",
    "merged = merged.append(removeResult6);"
   ]
  },
  {
   "cell_type": "code",
   "execution_count": 35,
   "metadata": {
    "collapsed": false
   },
   "outputs": [],
   "source": [
    "# merged = merged.reset_index(drop=True)\n",
    "merged[\"probability\"] = merged[\"probability\"].apply(pd.to_numeric)\n",
    "merged = merged.sort_values([\"probability\"])\n",
    "final_columns = ['flow', 'speed', 'occupancy', 'probability']\n",
    "merged = merged[final_columns]"
   ]
  },
  {
   "cell_type": "code",
   "execution_count": 36,
   "metadata": {
    "collapsed": false
   },
   "outputs": [],
   "source": [
    "# merged\n",
    "final_result = pd.DataFrame(columns = [\"flow\",\"speed\",\"occupancy\", \"probability\"])\n",
    "for i in range(0,len(merged),100):\n",
    "    final_result = final_result.append(merged.iloc[[i]])"
   ]
  },
  {
   "cell_type": "code",
   "execution_count": 37,
   "metadata": {
    "collapsed": true
   },
   "outputs": [],
   "source": [
    "final_result.to_csv(\"3445.txt\",sep=\"\\t\", index=False)"
   ]
  },
  {
   "cell_type": "code",
   "execution_count": null,
   "metadata": {
    "collapsed": true
   },
   "outputs": [],
   "source": [
    "low = 0;\n",
    "high1 = int(len(result)/20)\n",
    "BinNum = 20;\n",
    "length = high1 - low\n",
    "flowBins = np.zeros(shape=(20,high1), dtype = object)\n",
    "for i in range(0, 20, 1):\n",
    "    high = low + high1\n",
    "    flowBins[i] = [result[low : high]]\n",
    "    low = high"
   ]
  },
  {
   "cell_type": "code",
   "execution_count": null,
   "metadata": {
    "collapsed": true
   },
   "outputs": [],
   "source": [
    "import numpy as np\n",
    "flow_occupancy_bin = np.ndarray(shape=(20,20), dtype = object)\n",
    "y = 1;\n",
    "low = 0;\n",
    "for i in range(0,20,1):\n",
    "    data = pd.DataFrame(flowBins[i].reshape((-1,length))[0][0]);\n",
    "    data = data.sort_values([\"occupancy\"])\n",
    "    high1 = int(len(flowBins[1])/20)\n",
    "    low = 0\n",
    "    for j in range(0, 20, 1):\n",
    "        high = low + high1\n",
    "        flow_occupancy_bin[i][j] = [data[low : high]]\n",
    "        low = high"
   ]
  },
  {
   "cell_type": "code",
   "execution_count": null,
   "metadata": {
    "collapsed": true
   },
   "outputs": [],
   "source": [
    "import numpy as np\n",
    "flow_occupancy_speed_bin = np.ndarray(shape=(20,20,20), dtype = object)\n",
    "for i in range(0,20,1):\n",
    "    for k in range(0,20,1):\n",
    "        data = flow_occupancy_bin[i][k][0];\n",
    "        data = data.sort_values([\"speed\"])\n",
    "        low = 0;\n",
    "        high1 = int(len(flow_occupancy_bin[0][0][0])/20)\n",
    "        for j in range(0, 20, 1):\n",
    "            high = low + high1\n",
    "            flow_occupancy_speed_bin[i][k][j] = [data[low : high]]\n",
    "            low = high"
   ]
  },
  {
   "cell_type": "code",
   "execution_count": null,
   "metadata": {
    "collapsed": true
   },
   "outputs": [],
   "source": [
    "!mkdir output"
   ]
  },
  {
   "cell_type": "code",
   "execution_count": null,
   "metadata": {
    "collapsed": true
   },
   "outputs": [],
   "source": [
    "vectors = len(result)\n",
    "for i in range(1,20,1):\n",
    "    for j in range(1,20,1):\n",
    "        for k in range(1,20,1):\n",
    "            prob_data = flow_occupancy_speed_bin[i][j][k][0]\n",
    "            currVectors = flow_occupancy_speed_bin[i][j][k][0].shape[0]\n",
    "            flow_difference = prob_data.flow.max() - prob_data.flow.min()\n",
    "            occupancy_difference = prob_data.occupancy.max() - prob_data.occupancy.min()\n",
    "            speed_difference = prob_data.speed.max() - prob_data.speed.min()\n",
    "            volume = flow_difference * occupancy_difference * speed_difference\n",
    "            if(volume == 0): volume =1\n",
    "            probability = currVectors/float(vectors * volume)\n",
    "            prob_data[\"probability\"] = probability\n",
    "            prob_data.to_csv(\"output/out\" + str(i) + '-' + str(j) + '-' + str(k) + \".csv\",sep=\"\\t\")  "
   ]
  },
  {
   "cell_type": "code",
   "execution_count": null,
   "metadata": {
    "collapsed": true
   },
   "outputs": [],
   "source": [
    "! cat output/*.csv > merged-1.csv"
   ]
  },
  {
   "cell_type": "code",
   "execution_count": null,
   "metadata": {
    "collapsed": true
   },
   "outputs": [],
   "source": [
    "!rm -rf output/"
   ]
  },
  {
   "cell_type": "code",
   "execution_count": null,
   "metadata": {
    "collapsed": true
   },
   "outputs": [],
   "source": [
    "removeResult1[\"probability\"] = 0\n",
    "removeResult2[\"probability\"] = 0\n",
    "removeResult3[\"probability\"] = 0\n",
    "#removeResult4[\"probability\"] = 0\n",
    "removeResult5[\"probability\"] = 0\n",
    "removeResult6[\"probability\"] = 0"
   ]
  },
  {
   "cell_type": "code",
   "execution_count": null,
   "metadata": {
    "collapsed": true
   },
   "outputs": [],
   "source": [
    "merged = merged.append(removeResult1);\n",
    "merged = merged.append(removeResult2);\n",
    "merged = merged.append(removeResult3);\n",
    "#merged = merged.append(removeResult4);\n",
    "merged = merged.append(removeResult5);\n",
    "merged = merged.append(removeResult6);"
   ]
  },
  {
   "cell_type": "code",
   "execution_count": null,
   "metadata": {
    "collapsed": true
   },
   "outputs": [],
   "source": [
    "merged[\"probability\"] = merged[\"probability\"].apply(pd.to_numeric)\n",
    "merged = merged.sort_values([\"probability\"])\n",
    "final_columns = ['flow', 'speed', 'occupancy', 'probability']\n",
    "merged = merged[final_columns]"
   ]
  },
  {
   "cell_type": "code",
   "execution_count": null,
   "metadata": {
    "collapsed": true
   },
   "outputs": [],
   "source": [
    "final_result = pd.DataFrame(columns = [\"flow\",\"speed\",\"occupancy\", \"probability\"])\n",
    "for i in range(0,len(merged),100):\n",
    "    final_result = final_result.append(merged.iloc[[i]])"
   ]
  },
  {
   "cell_type": "code",
   "execution_count": null,
   "metadata": {
    "collapsed": true
   },
   "outputs": [],
   "source": [
    "final_result.to_csv(\"3445_2.txt\",sep=\"\\t\", index=False)"
   ]
  }
 ],
 "metadata": {
  "anaconda-cloud": {},
  "kernelspec": {
   "display_name": "Python [Root]",
   "language": "python",
   "name": "Python [Root]"
  },
  "language_info": {
   "codemirror_mode": {
    "name": "ipython",
    "version": 3
   },
   "file_extension": ".py",
   "mimetype": "text/x-python",
   "name": "python",
   "nbconvert_exporter": "python",
   "pygments_lexer": "ipython3",
   "version": "3.5.2"
  }
 },
 "nbformat": 4,
 "nbformat_minor": 0
}
