{
 "cells": [
  {
   "cell_type": "code",
   "execution_count": 1,
   "metadata": {
    "collapsed": true
   },
   "outputs": [],
   "source": [
    "import pylab\n",
    "import pandas as pd\n",
    "df = pd.read_csv(\"events_train.tsv\", na_values=['-'], delimiter=\"\\t\", error_bad_lines=False)"
   ]
  },
  {
   "cell_type": "code",
   "execution_count": 2,
   "metadata": {
    "collapsed": true
   },
   "outputs": [],
   "source": [
    "df_prediction_trial = pd.read_csv(\"prediction_trials.tsv\", na_values=['-'], delimiter=\"\\t\", error_bad_lines=False)"
   ]
  },
  {
   "cell_type": "code",
   "execution_count": 3,
   "metadata": {
    "collapsed": false
   },
   "outputs": [],
   "source": [
    "def set_Start_Timestamp(row):\n",
    "    if pd.isnull(row[\"start_tstamp\"]) == False:\n",
    "        return row[\"start_tstamp\"]\n",
    "    elif pd.isnull(row[\"confirmed_tstamp\"]) == False:\n",
    "        return row[\"confirmed_tstamp\"]\n",
    "    elif pd.isnull(row[\"created_tstamp\"]) == False:\n",
    "        return row[\"created_tstamp\"]\n",
    "    else: \n",
    "        return None\n",
    "\n",
    "df[\"for_prediction_timestamp\"] = df.apply(lambda row: set_Start_Timestamp(row), axis = 1)\n",
    "df[\"count\"] = df[\"for_prediction_timestamp\"]"
   ]
  },
  {
   "cell_type": "code",
   "execution_count": 4,
   "metadata": {
    "collapsed": false
   },
   "outputs": [],
   "source": [
    "df = df[~ pd.isnull(df[\"for_prediction_timestamp\"]) == True]"
   ]
  },
  {
   "cell_type": "code",
   "execution_count": 5,
   "metadata": {
    "collapsed": false
   },
   "outputs": [],
   "source": [
    "event_types = {\"accidentsAndIncidents\" : \"1\",\n",
    "\"roadwork\" : \"2\",\n",
    "\"precipitation\" : \"3\",\n",
    "\"deviceStatus\" : \"4\",\n",
    "\"obstruction\" : \"5\",\n",
    "\"trafficConditions\" : \"6\"\n",
    "}"
   ]
  },
  {
   "cell_type": "code",
   "execution_count": 6,
   "metadata": {
    "collapsed": false
   },
   "outputs": [],
   "source": [
    "def assign_Feature_Event_Type(row):\n",
    "    if row[\"event_type\"] in event_types:\n",
    "        return event_types[row[\"event_type\"]]\n",
    "    else:\n",
    "        return None\n",
    "df[\"feature_event_type\"] = df.apply(lambda row: assign_Feature_Event_Type(row) , axis= 1)"
   ]
  },
  {
   "cell_type": "code",
   "execution_count": 7,
   "metadata": {
    "collapsed": true
   },
   "outputs": [],
   "source": [
    "df = df[~ pd.isnull(df[\"feature_event_type\"]) == True]"
   ]
  },
  {
   "cell_type": "code",
   "execution_count": 8,
   "metadata": {
    "collapsed": false
   },
   "outputs": [],
   "source": [
    "df = df.sort_values([\"latitude\",\"longitude\"])"
   ]
  },
  {
   "cell_type": "code",
   "execution_count": 9,
   "metadata": {
    "collapsed": true
   },
   "outputs": [],
   "source": [
    "df_prediction_trial = df_prediction_trial.sort_values([\"se_lat\",\"nw_lon\",\"nw_lat\",\"se_lon\"])"
   ]
  },
  {
   "cell_type": "code",
   "execution_count": 10,
   "metadata": {
    "collapsed": false
   },
   "outputs": [],
   "source": [
    "df_prediction_trial[\"start\"] = pd.to_datetime(df_prediction_trial[\"start\"])\n",
    "df_prediction_trial[\"end\"] = pd.to_datetime(df_prediction_trial[\"end\"])"
   ]
  },
  {
   "cell_type": "code",
   "execution_count": 11,
   "metadata": {
    "collapsed": true
   },
   "outputs": [],
   "source": [
    "df[\"for_prediction_timestamp\"] = pd.to_datetime(df[\"for_prediction_timestamp\"])\n",
    "df[\"closed_tstamp\"] = pd.to_datetime(df[\"closed_tstamp\"])"
   ]
  },
  {
   "cell_type": "code",
   "execution_count": 12,
   "metadata": {
    "collapsed": true
   },
   "outputs": [],
   "source": [
    "df_acci_inci = df[df[\"event_type\"] == \"accidentsAndIncidents\"]\n",
    "df_road_work = df[df[\"event_type\"] == \"roadwork\"]\n",
    "df_precipitation = df[df[\"event_type\"] == \"precipitation\"]\n",
    "df_deviceStatus = df[df[\"event_type\"] == \"deviceStatus\"]\n",
    "df_obstruction = df[df[\"event_type\"] == \"obstruction\"]\n",
    "df_trafficConditions = df[df[\"event_type\"] == \"trafficConditions\"]\n",
    "\n",
    "\n",
    "event_types_df = {\"accidentsAndIncidents\" : df_acci_inci,\n",
    "\"roadwork\" : df_road_work,\n",
    "\"precipitation\" : df_precipitation,\n",
    "\"deviceStatus\" : df_deviceStatus,\n",
    "\"obstruction\" : df_obstruction,\n",
    "\"trafficConditions\" : df_trafficConditions\n",
    "}"
   ]
  },
  {
   "cell_type": "code",
   "execution_count": 13,
   "metadata": {
    "collapsed": false
   },
   "outputs": [],
   "source": [
    "df['month'] = df['for_prediction_timestamp'].dt.month\n",
    "df['year'] = df['for_prediction_timestamp'].dt.year"
   ]
  },
  {
   "cell_type": "code",
   "execution_count": 17,
   "metadata": {
    "collapsed": false
   },
   "outputs": [],
   "source": [
    "import time\n",
    "from sklearn.linear_model import LinearRegression\n",
    "from sklearn.kernel_ridge import KernelRidge\n",
    "from sklearn.svm import SVR\n",
    "import numpy as np\n",
    "\n",
    "reg_iter = 1\n",
    "total_error_reg = []\n",
    "total_error_rbf = []\n",
    "total_error_poly = []\n",
    "total_error_svr = []\n",
    "\n",
    "def train_regression_model(x_train, y_train, x_test, y_test, x_predict):\n",
    "    if len(x_train) < 2 or len(x_test) == 0 or (len(x_train) != len(y_train)) or (len(x_test) != len(y_test)) :\n",
    "        return np.zeros(2)\n",
    "\n",
    "    global reg_iter\n",
    "    reg_iter = reg_iter + 1\n",
    "    \n",
    "    regression_model = LinearRegression()\n",
    "    ridge_rbf = KernelRidge(alpha=0.05, kernel='rbf')\n",
    "    ridge_poly = KernelRidge(alpha=0.05, kernel='sigmoid')\n",
    "    svr_model = SVR(C=2000.0, epsilon=0.2)\n",
    "    \n",
    "    regression_model.fit(x_train, y_train)\n",
    "    ridge_rbf.fit(x_train, y_train)\n",
    "    ridge_poly.fit(x_train, y_train)\n",
    "    svr_model.fit(x_train, y_train)\n",
    "\n",
    "    predicted_regression = regression_model.predict(x_test)\n",
    "    predicted_ridge_rbf = ridge_rbf.predict(x_test)\n",
    "    predicted_ridge_poly = ridge_poly.predict(x_test)\n",
    "    predicted_svr = svr_model.predict(x_test)\n",
    "\n",
    "    error_reg = np.mean((predicted_regression - y_test) ** 2)\n",
    "    total_error_reg.append(error_reg)\n",
    "    \n",
    "    error_rbf = np.mean((predicted_ridge_rbf - y_test) ** 2)\n",
    "    total_error_rbf.append(error_rbf)\n",
    "    \n",
    "    error_poly = np.mean((predicted_ridge_poly - y_test) ** 2)\n",
    "    total_error_poly.append(error_poly)\n",
    "    \n",
    "    error_svr = np.mean((predicted_svr - y_test) ** 2)\n",
    "    total_error_svr.append(error_svr)\n",
    "    \n",
    "    return svr_model.predict(x_predict)"
   ]
  },
  {
   "cell_type": "code",
   "execution_count": null,
   "metadata": {
    "collapsed": true
   },
   "outputs": [],
   "source": []
  },
  {
   "cell_type": "code",
   "execution_count": 15,
   "metadata": {
    "collapsed": false
   },
   "outputs": [],
   "source": [
    "df_event = df\n",
    "del df_event[\"event_id\"]\n",
    "del df_event[\"event_description\"]\n",
    "del df_event[\"start_tstamp\"]\n",
    "del df_event[\"confirmed_tstamp\"]\n",
    "del df_event[\"created_tstamp\"]\n",
    "del df_event[\"event_subtype\"]\n",
    "del df_event[\"location\"]\n",
    "del df_event[\"number_of_responders\"]\n",
    "del df_event[\"lanes_affected\"]\n",
    "del df_event[\"feature_event_type\"]"
   ]
  },
  {
   "cell_type": "code",
   "execution_count": 16,
   "metadata": {
    "collapsed": true
   },
   "outputs": [],
   "source": [
    "df_prediction_trial['month1'] = df_prediction_trial['start'].dt.month\n",
    "df_prediction_trial['month2'] = df_prediction_trial['end'].dt.month\n",
    "\n",
    "df_prediction_trial['year1'] = df_prediction_trial['start'].dt.year\n",
    "df_prediction_trial['year2'] = df_prediction_trial['end'].dt.year\n"
   ]
  },
  {
   "cell_type": "code",
   "execution_count": null,
   "metadata": {
    "collapsed": true
   },
   "outputs": [],
   "source": []
  },
  {
   "cell_type": "code",
   "execution_count": 19,
   "metadata": {
    "collapsed": false
   },
   "outputs": [
    {
     "name": "stdout",
     "output_type": "stream",
     "text": [
      "linear reg mse : 6.944399081371148\n",
      "rbf reg mse : 8.44736268498726\n",
      "poly reg mse : 8.489400909696874\n",
      "svm reg mse : 7.785465494681817\n"
     ]
    }
   ],
   "source": [
    "import time\n",
    "import math\n",
    "from numpy import array\n",
    "\n",
    "lat_Long_Dict = {}\n",
    "count = 0\n",
    "start = time.time()\n",
    "output_arr = []\n",
    "total_error_reg = []\n",
    "total_error_rbf = []\n",
    "total_error_poly = []\n",
    "total_error_svr = []\n",
    "\n",
    "def create_Lat_Long_Dict(row):\n",
    "    columns1 = ['month1', 'year1']\n",
    "    columns2 = ['month2', 'year2']\n",
    "    \n",
    "    #x_predict = np.append(np.array([row[\"month1\"],row[\"year1\"]]), np.array([row[\"month2\"],row[\"year2\"]]))\n",
    "\n",
    "    df1 = pd.DataFrame(row[columns1])\n",
    "    df1 = df1.transpose()\n",
    "    df2 = pd.DataFrame(row[columns2])\n",
    "    df2 = df2.transpose()\n",
    "    df2.columns = columns1\n",
    "    x_predict = df1.append(df2)\n",
    "    intermediate_output = []\n",
    "    m =  df_event[(row[\"se_lat\"] < df_event[\"latitude\"]) & (row[\"nw_lat\"] > df_event[\"latitude\"]) & (row[\"se_lon\"] > df_event[\"longitude\"]) & (row[\"nw_lon\"] < df_event[\"longitude\"])]\n",
    "    if(len(m) > 0):\n",
    "        data = []\n",
    "        \n",
    "        test = m[(m[\"event_type\"] == \"accidentsAndIncidents\") & (m[\"year\"] == 2014)]\n",
    "        test.to_csv(\"test.tsv\",sep=\"\\t\", mode='w', index=False, header=None)\n",
    "        \n",
    "        data.append(m[m[\"event_type\"] == \"accidentsAndIncidents\"])\n",
    "        data.append(m[m[\"event_type\"] == \"roadwork\"])\n",
    "        data.append(m[m[\"event_type\"] == \"precipitation\"])\n",
    "        data.append(m[m[\"event_type\"] == \"deviceStatus\"])\n",
    "        data.append(m[m[\"event_type\"] == \"obstruction\"])\n",
    "        data.append(m[m[\"event_type\"] == \"trafficConditions\"])\n",
    "        \n",
    "        for i in range(0,6,1):\n",
    "            cur_data = data[i]\n",
    "            cur_data = cur_data.groupby([\"year\",\"month\"])[\"count\"].count().reset_index()\n",
    "            columns = ['month', 'year']\n",
    "            if (len(cur_data) != 0):\n",
    "                data_test = cur_data[cur_data['year'] == 2014]\n",
    "                data_train = cur_data[cur_data['year'] != 2014]\n",
    "                x_train, y_train, x_test, y_test = data_train[columns] ,data_train['count'], data_test[columns], data_test['count']\n",
    "                y = train_regression_model(x_train, y_train, x_test, y_test, x_predict)\n",
    "                mean_y = np.mean(y,axis=0)\n",
    "                if mean_y > 0:\n",
    "                    intermediate_output.append(math.ceil(mean_y))\n",
    "                else:\n",
    "                    intermediate_output.append(0)\n",
    "            else:\n",
    "                intermediate_output.append(0);\n",
    "            \n",
    "    output_arr.append(intermediate_output)   \n",
    "    global count\n",
    "    global start\n",
    "    count = count + 1\n",
    "    if count%100 == 0:\n",
    "        end = time.time()\n",
    "        print (str(count) + '\\t' + str(end - start))\n",
    "        start = time.time()\n",
    "\n",
    "test = df_prediction_trial.head(1).apply(lambda row:create_Lat_Long_Dict(row), axis= 1)\n",
    "output_arr_final = array(output_arr) \n",
    "df_final_output = pd.DataFrame(output_arr_final)\n",
    "df_final_output.to_csv(\"svr_model_RegressionOutput.tsv\",sep=\"\\t\", mode='w', index=False, header=None)\n",
    "\n",
    "print('linear reg mse : ' + str(math.sqrt(np.mean(total_error_reg,axis=0))))\n",
    "print('rbf reg mse : ' + str(math.sqrt(np.mean(total_error_rbf,axis=0))))\n",
    "print('poly reg mse : ' + str(math.sqrt(np.mean(total_error_poly,axis=0))))\n",
    "print('svm reg mse : ' + str(math.sqrt(np.mean(total_error_svr,axis=0))))"
   ]
  },
  {
   "cell_type": "code",
   "execution_count": null,
   "metadata": {
    "collapsed": false
   },
   "outputs": [],
   "source": [
    "import keras"
   ]
  },
  {
   "cell_type": "code",
   "execution_count": null,
   "metadata": {
    "collapsed": true
   },
   "outputs": [],
   "source": [
    "def larger_model():\n",
    "    # create model\n",
    "    model = Sequential()\n",
    "    model.add(Dense(13, input_dim=13, init='normal', activation='relu'))\n",
    "    model.add(Dense(6, init='normal', activation='relu'))\n",
    "    model.add(Dense(1, init='normal'))\n",
    "    # Compile model\n",
    "    model.compile(loss='mean_squared_error', optimizer='adam')\n",
    "    return model\n",
    "\n",
    "def keras_model():\n",
    "    numpy.random.seed(7)\n",
    "    estimators = []\n",
    "    estimators.append(('standardize', StandardScaler()))\n",
    "    estimators.append(('mlp', KerasRegressor(build_fn=larger_model, nb_epoch=50, batch_size=5, verbose=0)))\n",
    "    pipeline = Pipeline(estimators)\n",
    "    kfold = KFold(n_splits=2, random_state=seed)\n",
    "    results = cross_val_score(pipeline, X, Y, cv=kfold)\n",
    "    print(\"Larger: %.2f (%.2f) MSE\" % (results.mean(), results.std()))"
   ]
  },
  {
   "cell_type": "code",
   "execution_count": null,
   "metadata": {
    "collapsed": true
   },
   "outputs": [],
   "source": []
  }
 ],
 "metadata": {
  "anaconda-cloud": {},
  "kernelspec": {
   "display_name": "Python [Root]",
   "language": "python",
   "name": "Python [Root]"
  },
  "language_info": {
   "codemirror_mode": {
    "name": "ipython",
    "version": 3
   },
   "file_extension": ".py",
   "mimetype": "text/x-python",
   "name": "python",
   "nbconvert_exporter": "python",
   "pygments_lexer": "ipython3",
   "version": "3.5.2"
  }
 },
 "nbformat": 4,
 "nbformat_minor": 0
}
